{
  "nbformat": 4,
  "nbformat_minor": 0,
  "metadata": {
    "colab": {
      "name": "MLP for Iris flower classification using Keras.ipynb",
      "provenance": [],
      "authorship_tag": "ABX9TyNxbClOdMguY2OBWAr6yNqI",
      "include_colab_link": true
    },
    "kernelspec": {
      "name": "python3",
      "display_name": "Python 3"
    }
  },
  "cells": [
    {
      "cell_type": "markdown",
      "metadata": {
        "id": "view-in-github",
        "colab_type": "text"
      },
      "source": [
        "<a href=\"https://colab.research.google.com/github/Aiswaryadevi/AI-deeplearning/blob/master/MLP_for_Iris_flower_classification_using_Keras.ipynb\" target=\"_parent\"><img src=\"https://colab.research.google.com/assets/colab-badge.svg\" alt=\"Open In Colab\"/></a>"
      ]
    },
    {
      "cell_type": "code",
      "metadata": {
        "id": "OJw9M_s-6stO",
        "colab_type": "code",
        "colab": {}
      },
      "source": [
        "import numpy as np\n",
        "import pandas as pd \n",
        "import matplotlib.pyplot as plt "
      ],
      "execution_count": 0,
      "outputs": []
    },
    {
      "cell_type": "code",
      "metadata": {
        "id": "TmCl1TlM6-5X",
        "colab_type": "code",
        "colab": {}
      },
      "source": [
        "# Load the dataset from sklearn\n",
        "from sklearn.datasets import load_iris"
      ],
      "execution_count": 0,
      "outputs": []
    },
    {
      "cell_type": "code",
      "metadata": {
        "id": "MV-0y8Ug7BOC",
        "colab_type": "code",
        "colab": {
          "base_uri": "https://localhost:8080/",
          "height": 63
        },
        "outputId": "879352a3-ccaa-4c05-ad30-f1366f9619ce"
      },
      "source": [
        "# Importing both TensorFlow and its high level API - Keras.\n",
        "import tensorflow as tf\n",
        "from tensorflow import keras\n"
      ],
      "execution_count": 5,
      "outputs": [
        {
          "output_type": "display_data",
          "data": {
            "text/html": [
              "<p style=\"color: red;\">\n",
              "The default version of TensorFlow in Colab will soon switch to TensorFlow 2.x.<br>\n",
              "We recommend you <a href=\"https://www.tensorflow.org/guide/migrate\" target=\"_blank\">upgrade</a> now \n",
              "or ensure your notebook will continue to use TensorFlow 1.x via the <code>%tensorflow_version 1.x</code> magic:\n",
              "<a href=\"https://colab.research.google.com/notebooks/tensorflow_version.ipynb\" target=\"_blank\">more info</a>.</p>\n"
            ],
            "text/plain": [
              "<IPython.core.display.HTML object>"
            ]
          },
          "metadata": {
            "tags": []
          }
        }
      ]
    },
    {
      "cell_type": "code",
      "metadata": {
        "id": "-u_q7_lK7GIn",
        "colab_type": "code",
        "colab": {}
      },
      "source": [
        "# Setting the random seeds for repeatability\n",
        "tf.set_random_seed(42)\n",
        "np.random.seed(42)\n"
      ],
      "execution_count": 0,
      "outputs": []
    },
    {
      "cell_type": "code",
      "metadata": {
        "id": "GJ6pfuNQ7H6T",
        "colab_type": "code",
        "colab": {}
      },
      "source": [
        "# Loading the dataset\n",
        "irisData = load_iris()\n"
      ],
      "execution_count": 0,
      "outputs": []
    },
    {
      "cell_type": "code",
      "metadata": {
        "id": "sNy8l45_7Jur",
        "colab_type": "code",
        "colab": {}
      },
      "source": [
        "# Load the attributes and target in X and y\n",
        "X = irisData.data\n",
        "y = irisData.target\n"
      ],
      "execution_count": 0,
      "outputs": []
    },
    {
      "cell_type": "code",
      "metadata": {
        "id": "fQgRqd487LdL",
        "colab_type": "code",
        "colab": {}
      },
      "source": [
        "# Split the data into 80% training and 20% testing\n",
        "from sklearn.model_selection import train_test_split\n",
        "X_train, X_test, y_train, y_test = train_test_split(X, y, test_size=0.2,\n",
        " stratify=y, random_state=42)\n"
      ],
      "execution_count": 0,
      "outputs": []
    },
    {
      "cell_type": "code",
      "metadata": {
        "id": "2ey8_QVw7NeP",
        "colab_type": "code",
        "colab": {}
      },
      "source": [
        "# Feature scaling using Standardization\n",
        "from sklearn.preprocessing import StandardScaler\n",
        "sc = StandardScaler()"
      ],
      "execution_count": 0,
      "outputs": []
    },
    {
      "cell_type": "code",
      "metadata": {
        "id": "6oceZZJW7Pmx",
        "colab_type": "code",
        "colab": {
          "base_uri": "https://localhost:8080/",
          "height": 34
        },
        "outputId": "27135442-b683-4980-8b46-93969e76e8d7"
      },
      "source": [
        "# Training the feature scaling parameters\n",
        "sc.fit(X_train)\n"
      ],
      "execution_count": 11,
      "outputs": [
        {
          "output_type": "execute_result",
          "data": {
            "text/plain": [
              "StandardScaler(copy=True, with_mean=True, with_std=True)"
            ]
          },
          "metadata": {
            "tags": []
          },
          "execution_count": 11
        }
      ]
    },
    {
      "cell_type": "code",
      "metadata": {
        "id": "wGpDjOYY7RaP",
        "colab_type": "code",
        "colab": {}
      },
      "source": [
        "# Applying transformations to both training and testing set\n",
        "X_train_std = sc.transform(X_train)\n",
        "X_test_std = sc.transform(X_test)"
      ],
      "execution_count": 0,
      "outputs": []
    },
    {
      "cell_type": "code",
      "metadata": {
        "id": "At51ib6v7TGf",
        "colab_type": "code",
        "colab": {}
      },
      "source": [
        "# Sequential() does linear stacking of layer\n",
        "model_MLP = keras.models.Sequential()\n"
      ],
      "execution_count": 0,
      "outputs": []
    },
    {
      "cell_type": "code",
      "metadata": {
        "id": "Y7xxwb-K7U31",
        "colab_type": "code",
        "colab": {}
      },
      "source": [
        "# Hidden layer definitions\n",
        "model_MLP.add(keras.layers.Dense(units=15, activation='relu',input_shape= X_train.shape[1:]))\n"
      ],
      "execution_count": 0,
      "outputs": []
    },
    {
      "cell_type": "code",
      "metadata": {
        "id": "fbAVLGpu7WqM",
        "colab_type": "code",
        "colab": {}
      },
      "source": [
        "# Output layer definitions\n",
        "model_MLP.add(keras.layers.Dense(units=3, activation='softmax'))\n",
        "\n"
      ],
      "execution_count": 0,
      "outputs": []
    },
    {
      "cell_type": "code",
      "metadata": {
        "id": "f_GTHJ9t7iJR",
        "colab_type": "code",
        "colab": {}
      },
      "source": [
        "model_MLP.compile(loss='sparse_categorical_crossentropy',\n",
        " optimizer='adam', metrics=['accuracy'])"
      ],
      "execution_count": 0,
      "outputs": []
    },
    {
      "cell_type": "code",
      "metadata": {
        "id": "lt0g8jFB73Pm",
        "colab_type": "code",
        "colab": {
          "base_uri": "https://localhost:8080/",
          "height": 1000
        },
        "outputId": "3284e4d4-8f28-4b83-9fa8-2b9ecf203060"
      },
      "source": [
        "model_MLP.fit(x=X_train_std, y=y_train, validation_split=0.1,\n",
        " epochs=50, batch_size=16)\n"
      ],
      "execution_count": 23,
      "outputs": [
        {
          "output_type": "stream",
          "text": [
            "WARNING:tensorflow:From /usr/local/lib/python3.6/dist-packages/tensorflow_core/python/ops/resource_variable_ops.py:1630: calling BaseResourceVariable.__init__ (from tensorflow.python.ops.resource_variable_ops) with constraint is deprecated and will be removed in a future version.\n",
            "Instructions for updating:\n",
            "If using Keras pass *_constraint arguments to layers.\n",
            "Train on 108 samples, validate on 12 samples\n",
            "Epoch 1/50\n",
            "108/108 [==============================] - 0s 2ms/sample - loss: 1.2557 - acc: 0.3148 - val_loss: 1.1358 - val_acc: 0.5000\n",
            "Epoch 2/50\n",
            "108/108 [==============================] - 0s 150us/sample - loss: 1.2484 - acc: 0.3148 - val_loss: 1.1331 - val_acc: 0.5000\n",
            "Epoch 3/50\n",
            "108/108 [==============================] - 0s 123us/sample - loss: 1.2421 - acc: 0.3148 - val_loss: 1.1301 - val_acc: 0.5000\n",
            "Epoch 4/50\n",
            "108/108 [==============================] - 0s 128us/sample - loss: 1.2354 - acc: 0.3148 - val_loss: 1.1273 - val_acc: 0.5000\n",
            "Epoch 5/50\n",
            "108/108 [==============================] - 0s 123us/sample - loss: 1.2292 - acc: 0.3148 - val_loss: 1.1243 - val_acc: 0.5000\n",
            "Epoch 6/50\n",
            "108/108 [==============================] - 0s 134us/sample - loss: 1.2223 - acc: 0.3148 - val_loss: 1.1222 - val_acc: 0.5000\n",
            "Epoch 7/50\n",
            "108/108 [==============================] - 0s 122us/sample - loss: 1.2168 - acc: 0.3148 - val_loss: 1.1203 - val_acc: 0.5000\n",
            "Epoch 8/50\n",
            "108/108 [==============================] - 0s 140us/sample - loss: 1.2117 - acc: 0.3148 - val_loss: 1.1181 - val_acc: 0.5000\n",
            "Epoch 9/50\n",
            "108/108 [==============================] - 0s 134us/sample - loss: 1.2053 - acc: 0.3148 - val_loss: 1.1161 - val_acc: 0.5000\n",
            "Epoch 10/50\n",
            "108/108 [==============================] - 0s 117us/sample - loss: 1.2002 - acc: 0.3148 - val_loss: 1.1141 - val_acc: 0.5000\n",
            "Epoch 11/50\n",
            "108/108 [==============================] - 0s 131us/sample - loss: 1.1955 - acc: 0.3148 - val_loss: 1.1124 - val_acc: 0.5000\n",
            "Epoch 12/50\n",
            "108/108 [==============================] - 0s 138us/sample - loss: 1.1904 - acc: 0.3148 - val_loss: 1.1106 - val_acc: 0.5000\n",
            "Epoch 13/50\n",
            "108/108 [==============================] - 0s 129us/sample - loss: 1.1860 - acc: 0.3148 - val_loss: 1.1095 - val_acc: 0.5000\n",
            "Epoch 14/50\n",
            "108/108 [==============================] - 0s 119us/sample - loss: 1.1806 - acc: 0.3148 - val_loss: 1.1083 - val_acc: 0.5000\n",
            "Epoch 15/50\n",
            "108/108 [==============================] - 0s 121us/sample - loss: 1.1766 - acc: 0.3148 - val_loss: 1.1067 - val_acc: 0.5000\n",
            "Epoch 16/50\n",
            "108/108 [==============================] - 0s 112us/sample - loss: 1.1724 - acc: 0.3148 - val_loss: 1.1056 - val_acc: 0.5000\n",
            "Epoch 17/50\n",
            "108/108 [==============================] - 0s 131us/sample - loss: 1.1682 - acc: 0.3148 - val_loss: 1.1042 - val_acc: 0.5000\n",
            "Epoch 18/50\n",
            "108/108 [==============================] - 0s 134us/sample - loss: 1.1642 - acc: 0.3148 - val_loss: 1.1031 - val_acc: 0.5000\n",
            "Epoch 19/50\n",
            "108/108 [==============================] - 0s 131us/sample - loss: 1.1606 - acc: 0.3148 - val_loss: 1.1019 - val_acc: 0.5000\n",
            "Epoch 20/50\n",
            "108/108 [==============================] - 0s 116us/sample - loss: 1.1566 - acc: 0.3148 - val_loss: 1.1008 - val_acc: 0.5000\n",
            "Epoch 21/50\n",
            "108/108 [==============================] - 0s 136us/sample - loss: 1.1526 - acc: 0.3148 - val_loss: 1.1005 - val_acc: 0.5000\n",
            "Epoch 22/50\n",
            "108/108 [==============================] - 0s 172us/sample - loss: 1.1499 - acc: 0.3148 - val_loss: 1.0994 - val_acc: 0.5000\n",
            "Epoch 23/50\n",
            "108/108 [==============================] - 0s 123us/sample - loss: 1.1458 - acc: 0.3148 - val_loss: 1.0985 - val_acc: 0.5000\n",
            "Epoch 24/50\n",
            "108/108 [==============================] - 0s 132us/sample - loss: 1.1430 - acc: 0.3148 - val_loss: 1.0975 - val_acc: 0.5000\n",
            "Epoch 25/50\n",
            "108/108 [==============================] - 0s 122us/sample - loss: 1.1395 - acc: 0.3148 - val_loss: 1.0978 - val_acc: 0.5000\n",
            "Epoch 26/50\n",
            "108/108 [==============================] - 0s 113us/sample - loss: 1.1361 - acc: 0.3148 - val_loss: 1.0966 - val_acc: 0.5000\n",
            "Epoch 27/50\n",
            "108/108 [==============================] - 0s 129us/sample - loss: 1.1330 - acc: 0.3148 - val_loss: 1.0956 - val_acc: 0.5000\n",
            "Epoch 28/50\n",
            "108/108 [==============================] - 0s 126us/sample - loss: 1.1301 - acc: 0.3148 - val_loss: 1.0961 - val_acc: 0.5000\n",
            "Epoch 29/50\n",
            "108/108 [==============================] - 0s 140us/sample - loss: 1.1271 - acc: 0.3148 - val_loss: 1.0956 - val_acc: 0.5000\n",
            "Epoch 30/50\n",
            "108/108 [==============================] - 0s 144us/sample - loss: 1.1246 - acc: 0.3148 - val_loss: 1.0950 - val_acc: 0.5000\n",
            "Epoch 31/50\n",
            "108/108 [==============================] - 0s 142us/sample - loss: 1.1216 - acc: 0.3148 - val_loss: 1.0943 - val_acc: 0.5000\n",
            "Epoch 32/50\n",
            "108/108 [==============================] - 0s 127us/sample - loss: 1.1191 - acc: 0.3148 - val_loss: 1.0941 - val_acc: 0.5000\n",
            "Epoch 33/50\n",
            "108/108 [==============================] - 0s 131us/sample - loss: 1.1165 - acc: 0.3148 - val_loss: 1.0948 - val_acc: 0.5000\n",
            "Epoch 34/50\n",
            "108/108 [==============================] - 0s 122us/sample - loss: 1.1139 - acc: 0.3148 - val_loss: 1.0958 - val_acc: 0.5000\n",
            "Epoch 35/50\n",
            "108/108 [==============================] - 0s 124us/sample - loss: 1.1114 - acc: 0.3148 - val_loss: 1.0949 - val_acc: 0.5000\n",
            "Epoch 36/50\n",
            "108/108 [==============================] - 0s 135us/sample - loss: 1.1087 - acc: 0.3148 - val_loss: 1.0948 - val_acc: 0.5000\n",
            "Epoch 37/50\n",
            "108/108 [==============================] - 0s 113us/sample - loss: 1.1060 - acc: 0.3148 - val_loss: 1.0950 - val_acc: 0.5000\n",
            "Epoch 38/50\n",
            "108/108 [==============================] - 0s 139us/sample - loss: 1.1036 - acc: 0.3148 - val_loss: 1.0951 - val_acc: 0.5000\n",
            "Epoch 39/50\n",
            "108/108 [==============================] - 0s 125us/sample - loss: 1.1008 - acc: 0.3148 - val_loss: 1.0952 - val_acc: 0.5000\n",
            "Epoch 40/50\n",
            "108/108 [==============================] - 0s 120us/sample - loss: 1.0982 - acc: 0.3148 - val_loss: 1.0955 - val_acc: 0.5000\n",
            "Epoch 41/50\n",
            "108/108 [==============================] - 0s 130us/sample - loss: 1.0956 - acc: 0.3148 - val_loss: 1.0957 - val_acc: 0.5000\n",
            "Epoch 42/50\n",
            "108/108 [==============================] - 0s 235us/sample - loss: 1.0933 - acc: 0.3148 - val_loss: 1.0964 - val_acc: 0.5000\n",
            "Epoch 43/50\n",
            "108/108 [==============================] - 0s 132us/sample - loss: 1.0902 - acc: 0.3148 - val_loss: 1.0962 - val_acc: 0.5000\n",
            "Epoch 44/50\n",
            "108/108 [==============================] - 0s 174us/sample - loss: 1.0874 - acc: 0.3148 - val_loss: 1.0963 - val_acc: 0.5000\n",
            "Epoch 45/50\n",
            "108/108 [==============================] - 0s 146us/sample - loss: 1.0845 - acc: 0.3148 - val_loss: 1.0962 - val_acc: 0.5000\n",
            "Epoch 46/50\n",
            "108/108 [==============================] - 0s 125us/sample - loss: 1.0816 - acc: 0.3148 - val_loss: 1.0962 - val_acc: 0.5000\n",
            "Epoch 47/50\n",
            "108/108 [==============================] - 0s 123us/sample - loss: 1.0787 - acc: 0.3148 - val_loss: 1.0966 - val_acc: 0.5000\n",
            "Epoch 48/50\n",
            "108/108 [==============================] - 0s 125us/sample - loss: 1.0755 - acc: 0.3148 - val_loss: 1.0962 - val_acc: 0.5000\n",
            "Epoch 49/50\n",
            "108/108 [==============================] - 0s 125us/sample - loss: 1.0722 - acc: 0.3148 - val_loss: 1.0964 - val_acc: 0.5000\n",
            "Epoch 50/50\n",
            "108/108 [==============================] - 0s 130us/sample - loss: 1.0690 - acc: 0.3148 - val_loss: 1.0966 - val_acc: 0.5000\n"
          ],
          "name": "stdout"
        },
        {
          "output_type": "execute_result",
          "data": {
            "text/plain": [
              "<tensorflow.python.keras.callbacks.History at 0x7fe13c9c8198>"
            ]
          },
          "metadata": {
            "tags": []
          },
          "execution_count": 23
        }
      ]
    },
    {
      "cell_type": "code",
      "metadata": {
        "id": "_Fgyfpet75Mu",
        "colab_type": "code",
        "colab": {
          "base_uri": "https://localhost:8080/",
          "height": 34
        },
        "outputId": "e114f1b4-f277-4486-8c04-c741f0462d6d"
      },
      "source": [
        "test_loss, test_accuracy = model_MLP.evaluate(x=X_test_std, y=y_test)"
      ],
      "execution_count": 24,
      "outputs": [
        {
          "output_type": "stream",
          "text": [
            "\r30/30 [==============================] - 0s 61us/sample - loss: 1.0814 - acc: 0.3333\n"
          ],
          "name": "stdout"
        }
      ]
    },
    {
      "cell_type": "code",
      "metadata": {
        "id": "XcT5xu7Z77Q6",
        "colab_type": "code",
        "colab": {
          "base_uri": "https://localhost:8080/",
          "height": 34
        },
        "outputId": "8346c139-913e-4b03-e34f-d34f02333464"
      },
      "source": [
        "print(test_loss, test_accuracy)\n"
      ],
      "execution_count": 25,
      "outputs": [
        {
          "output_type": "stream",
          "text": [
            "1.0814074277877808 0.33333334\n"
          ],
          "name": "stdout"
        }
      ]
    },
    {
      "cell_type": "code",
      "metadata": {
        "id": "tIpbkmxE79Jq",
        "colab_type": "code",
        "colab": {}
      },
      "source": [
        ""
      ],
      "execution_count": 0,
      "outputs": []
    }
  ]
}