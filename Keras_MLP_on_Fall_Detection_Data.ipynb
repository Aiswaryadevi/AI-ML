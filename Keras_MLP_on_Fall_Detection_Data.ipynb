{
  "nbformat": 4,
  "nbformat_minor": 0,
  "metadata": {
    "colab": {
      "name": "Keras MLP on Fall Detection Data.ipynb",
      "provenance": [],
      "authorship_tag": "ABX9TyPOyHCsaKTLheEvtbBzHnmh",
      "include_colab_link": true
    },
    "kernelspec": {
      "name": "python3",
      "display_name": "Python 3"
    }
  },
  "cells": [
    {
      "cell_type": "markdown",
      "metadata": {
        "id": "view-in-github",
        "colab_type": "text"
      },
      "source": [
        "<a href=\"https://colab.research.google.com/github/Aiswaryadevi/AI-deeplearning/blob/master/Keras_MLP_on_Fall_Detection_Data.ipynb\" target=\"_parent\"><img src=\"https://colab.research.google.com/assets/colab-badge.svg\" alt=\"Open In Colab\"/></a>"
      ]
    },
    {
      "cell_type": "code",
      "metadata": {
        "id": "rDQOhHdOBLc6",
        "colab_type": "code",
        "colab": {
          "base_uri": "https://localhost:8080/",
          "height": 122
        },
        "outputId": "b98903ec-ebf8-4d8d-884c-00f658882266"
      },
      "source": [
        "from google.colab import drive\n",
        "drive.mount('/content/drive')"
      ],
      "execution_count": 1,
      "outputs": [
        {
          "output_type": "stream",
          "text": [
            "Go to this URL in a browser: https://accounts.google.com/o/oauth2/auth?client_id=947318989803-6bn6qk8qdgf4n4g3pfee6491hc0brc4i.apps.googleusercontent.com&redirect_uri=urn%3aietf%3awg%3aoauth%3a2.0%3aoob&response_type=code&scope=email%20https%3a%2f%2fwww.googleapis.com%2fauth%2fdocs.test%20https%3a%2f%2fwww.googleapis.com%2fauth%2fdrive%20https%3a%2f%2fwww.googleapis.com%2fauth%2fdrive.photos.readonly%20https%3a%2f%2fwww.googleapis.com%2fauth%2fpeopleapi.readonly\n",
            "\n",
            "Enter your authorization code:\n",
            "··········\n",
            "Mounted at /content/drive\n"
          ],
          "name": "stdout"
        }
      ]
    },
    {
      "cell_type": "code",
      "metadata": {
        "id": "ubE7uvrxByyr",
        "colab_type": "code",
        "colab": {
          "base_uri": "https://localhost:8080/",
          "height": 221
        },
        "outputId": "6638e6c7-d4f7-4382-8d89-e6713989d3b3"
      },
      "source": [
        "import pandas as pd\n",
        "import numpy as np\n",
        "data = pd.read_csv('falldeteciton.csv')\n",
        "data.info()"
      ],
      "execution_count": 2,
      "outputs": [
        {
          "output_type": "stream",
          "text": [
            "<class 'pandas.core.frame.DataFrame'>\n",
            "RangeIndex: 16382 entries, 0 to 16381\n",
            "Data columns (total 7 columns):\n",
            "ACTIVITY       16382 non-null int64\n",
            "TIME           16382 non-null float64\n",
            "SL             16382 non-null float64\n",
            "EEG            16382 non-null float64\n",
            "BP             16382 non-null int64\n",
            "HR             16382 non-null int64\n",
            "CIRCLUATION    16382 non-null int64\n",
            "dtypes: float64(3), int64(4)\n",
            "memory usage: 896.0 KB\n"
          ],
          "name": "stdout"
        }
      ]
    },
    {
      "cell_type": "code",
      "metadata": {
        "id": "_jSxVJcWCM3J",
        "colab_type": "code",
        "colab": {}
      },
      "source": [
        "\n",
        "y=data['ACTIVITY']\n",
        "data.drop(['ACTIVITY'],axis=1,inplace=True)"
      ],
      "execution_count": 0,
      "outputs": []
    },
    {
      "cell_type": "code",
      "metadata": {
        "id": "0AO2ZNncCQXw",
        "colab_type": "code",
        "colab": {}
      },
      "source": [
        "\n",
        "from sklearn.model_selection import train_test_split\n",
        "X_train, X_test, y_train, y_test = train_test_split(data, y, test_size=0.2, stratify=y,random_state=42)"
      ],
      "execution_count": 0,
      "outputs": []
    },
    {
      "cell_type": "code",
      "metadata": {
        "id": "vwNyAs8VCS5O",
        "colab_type": "code",
        "colab": {}
      },
      "source": [
        "from sklearn.preprocessing import StandardScaler\n",
        "sc = StandardScaler()\n",
        "sc.fit(X_train)\n",
        "X_train_std = sc.transform(X_train)\n",
        "X_test_std = sc.transform(X_test)"
      ],
      "execution_count": 0,
      "outputs": []
    },
    {
      "cell_type": "code",
      "metadata": {
        "id": "fjYdVtk8CdYF",
        "colab_type": "code",
        "colab": {
          "base_uri": "https://localhost:8080/",
          "height": 80
        },
        "outputId": "d43a8755-56a1-4290-aa57-d1d8d7b17ea3"
      },
      "source": [
        "import tensorflow.compat.v1 as tf\n",
        "from tensorflow import keras\n",
        "model_MLP = keras.models.Sequential()"
      ],
      "execution_count": 6,
      "outputs": [
        {
          "output_type": "display_data",
          "data": {
            "text/html": [
              "<p style=\"color: red;\">\n",
              "The default version of TensorFlow in Colab will soon switch to TensorFlow 2.x.<br>\n",
              "We recommend you <a href=\"https://www.tensorflow.org/guide/migrate\" target=\"_blank\">upgrade</a> now \n",
              "or ensure your notebook will continue to use TensorFlow 1.x via the <code>%tensorflow_version 1.x</code> magic:\n",
              "<a href=\"https://colab.research.google.com/notebooks/tensorflow_version.ipynb\" target=\"_blank\">more info</a>.</p>\n"
            ],
            "text/plain": [
              "<IPython.core.display.HTML object>"
            ]
          },
          "metadata": {
            "tags": []
          }
        }
      ]
    },
    {
      "cell_type": "code",
      "metadata": {
        "id": "lQG2851JCgFM",
        "colab_type": "code",
        "colab": {}
      },
      "source": [
        "tf.set_random_seed(42)\n",
        "np.random.seed(42)"
      ],
      "execution_count": 0,
      "outputs": []
    },
    {
      "cell_type": "code",
      "metadata": {
        "id": "CORrDFlgCik4",
        "colab_type": "code",
        "colab": {
          "base_uri": "https://localhost:8080/",
          "height": 88
        },
        "outputId": "13ec302b-f72a-4d7f-e8d4-d3e2371a382a"
      },
      "source": [
        "\n",
        "model_MLP.add(keras.layers.Dense(units=20, activation='relu',input_shape= X_train.shape[1:]))\n",
        "model_MLP.add(keras.layers.Dense(units=10, activation='relu',input_shape= X_train.shape[1:]))"
      ],
      "execution_count": 8,
      "outputs": [
        {
          "output_type": "stream",
          "text": [
            "WARNING:tensorflow:From /usr/local/lib/python3.6/dist-packages/tensorflow_core/python/ops/resource_variable_ops.py:1630: calling BaseResourceVariable.__init__ (from tensorflow.python.ops.resource_variable_ops) with constraint is deprecated and will be removed in a future version.\n",
            "Instructions for updating:\n",
            "If using Keras pass *_constraint arguments to layers.\n"
          ],
          "name": "stdout"
        }
      ]
    },
    {
      "cell_type": "code",
      "metadata": {
        "id": "8x_ym1xYClBk",
        "colab_type": "code",
        "colab": {}
      },
      "source": [
        "model_MLP.add(keras.layers.Dense(units=8, activation='softmax'))"
      ],
      "execution_count": 0,
      "outputs": []
    },
    {
      "cell_type": "code",
      "metadata": {
        "id": "0JDxB4_yCq15",
        "colab_type": "code",
        "colab": {
          "base_uri": "https://localhost:8080/",
          "height": 255
        },
        "outputId": "c997e878-b930-42a2-ca44-2bb82b3a78f3"
      },
      "source": [
        "model_MLP.summary()"
      ],
      "execution_count": 10,
      "outputs": [
        {
          "output_type": "stream",
          "text": [
            "Model: \"sequential\"\n",
            "_________________________________________________________________\n",
            "Layer (type)                 Output Shape              Param #   \n",
            "=================================================================\n",
            "dense (Dense)                (None, 20)                140       \n",
            "_________________________________________________________________\n",
            "dense_1 (Dense)              (None, 10)                210       \n",
            "_________________________________________________________________\n",
            "dense_2 (Dense)              (None, 8)                 88        \n",
            "=================================================================\n",
            "Total params: 438\n",
            "Trainable params: 438\n",
            "Non-trainable params: 0\n",
            "_________________________________________________________________\n"
          ],
          "name": "stdout"
        }
      ]
    },
    {
      "cell_type": "code",
      "metadata": {
        "id": "9ZOK_E4JCusb",
        "colab_type": "code",
        "colab": {
          "base_uri": "https://localhost:8080/",
          "height": 751
        },
        "outputId": "0860a068-cd40-4045-b16f-0eaeaa16060d"
      },
      "source": [
        "\n",
        "model_MLP.compile(loss='sparse_categorical_crossentropy',optimizer='adam', metrics=['accuracy'])\n",
        "model_MLP.fit(x=X_train_std, y=y_train, validation_split=0.2, epochs=20,batch_size=16)"
      ],
      "execution_count": 11,
      "outputs": [
        {
          "output_type": "stream",
          "text": [
            "Train on 10484 samples, validate on 2621 samples\n",
            "Epoch 1/20\n",
            "10484/10484 [==============================] - 1s 104us/sample - loss: 1.6931 - acc: 0.2813 - val_loss: 1.5527 - val_acc: 0.3468\n",
            "Epoch 2/20\n",
            "10484/10484 [==============================] - 1s 84us/sample - loss: 1.5637 - acc: 0.3138 - val_loss: 1.5240 - val_acc: 0.3750\n",
            "Epoch 3/20\n",
            "10484/10484 [==============================] - 1s 82us/sample - loss: 1.5406 - acc: 0.3380 - val_loss: 1.5053 - val_acc: 0.3697\n",
            "Epoch 4/20\n",
            "10484/10484 [==============================] - 1s 81us/sample - loss: 1.5265 - acc: 0.3429 - val_loss: 1.4973 - val_acc: 0.3674\n",
            "Epoch 5/20\n",
            "10484/10484 [==============================] - 1s 81us/sample - loss: 1.5192 - acc: 0.3496 - val_loss: 1.4876 - val_acc: 0.3651\n",
            "Epoch 6/20\n",
            "10484/10484 [==============================] - 1s 82us/sample - loss: 1.5123 - acc: 0.3521 - val_loss: 1.4797 - val_acc: 0.3903\n",
            "Epoch 7/20\n",
            "10484/10484 [==============================] - 1s 84us/sample - loss: 1.5061 - acc: 0.3552 - val_loss: 1.4722 - val_acc: 0.3857\n",
            "Epoch 8/20\n",
            "10484/10484 [==============================] - 1s 83us/sample - loss: 1.4999 - acc: 0.3627 - val_loss: 1.4782 - val_acc: 0.3739\n",
            "Epoch 9/20\n",
            "10484/10484 [==============================] - 1s 83us/sample - loss: 1.4929 - acc: 0.3652 - val_loss: 1.4594 - val_acc: 0.4002\n",
            "Epoch 10/20\n",
            "10484/10484 [==============================] - 1s 85us/sample - loss: 1.4845 - acc: 0.3728 - val_loss: 1.4637 - val_acc: 0.3941\n",
            "Epoch 11/20\n",
            "10484/10484 [==============================] - 1s 82us/sample - loss: 1.4778 - acc: 0.3814 - val_loss: 1.4457 - val_acc: 0.4079\n",
            "Epoch 12/20\n",
            "10484/10484 [==============================] - 1s 83us/sample - loss: 1.4674 - acc: 0.3904 - val_loss: 1.4435 - val_acc: 0.4109\n",
            "Epoch 13/20\n",
            "10484/10484 [==============================] - 1s 83us/sample - loss: 1.4588 - acc: 0.3932 - val_loss: 1.4271 - val_acc: 0.4239\n",
            "Epoch 14/20\n",
            "10484/10484 [==============================] - 1s 79us/sample - loss: 1.4510 - acc: 0.3962 - val_loss: 1.4188 - val_acc: 0.4300\n",
            "Epoch 15/20\n",
            "10484/10484 [==============================] - 1s 82us/sample - loss: 1.4420 - acc: 0.4014 - val_loss: 1.4122 - val_acc: 0.4193\n",
            "Epoch 16/20\n",
            "10484/10484 [==============================] - 1s 82us/sample - loss: 1.4314 - acc: 0.4092 - val_loss: 1.4031 - val_acc: 0.4304\n",
            "Epoch 17/20\n",
            "10484/10484 [==============================] - 1s 80us/sample - loss: 1.4224 - acc: 0.4101 - val_loss: 1.3992 - val_acc: 0.4292\n",
            "Epoch 18/20\n",
            "10484/10484 [==============================] - 1s 82us/sample - loss: 1.4133 - acc: 0.4192 - val_loss: 1.3855 - val_acc: 0.4170\n",
            "Epoch 19/20\n",
            "10484/10484 [==============================] - 1s 81us/sample - loss: 1.4061 - acc: 0.4221 - val_loss: 1.3821 - val_acc: 0.4205\n",
            "Epoch 20/20\n",
            "10484/10484 [==============================] - 1s 82us/sample - loss: 1.3980 - acc: 0.4270 - val_loss: 1.3787 - val_acc: 0.4418\n"
          ],
          "name": "stdout"
        },
        {
          "output_type": "execute_result",
          "data": {
            "text/plain": [
              "<tensorflow.python.keras.callbacks.History at 0x7f60ba7ea6d8>"
            ]
          },
          "metadata": {
            "tags": []
          },
          "execution_count": 11
        }
      ]
    },
    {
      "cell_type": "code",
      "metadata": {
        "id": "t9GBdxgrCyRc",
        "colab_type": "code",
        "colab": {
          "base_uri": "https://localhost:8080/",
          "height": 51
        },
        "outputId": "fa31e079-bc29-43b7-ba2a-209a5388a7d4"
      },
      "source": [
        "test_loss, test_accuracy = model_MLP.evaluate(x=X_test_std, y=y_test)\n",
        "print(test_loss, test_accuracy)"
      ],
      "execution_count": 12,
      "outputs": [
        {
          "output_type": "stream",
          "text": [
            "3277/3277 [==============================] - 0s 25us/sample - loss: 1.3737 - acc: 0.4617\n",
            "1.3736802344282917 0.46170276\n"
          ],
          "name": "stdout"
        }
      ]
    },
    {
      "cell_type": "code",
      "metadata": {
        "id": "7plPFaBEDDM-",
        "colab_type": "code",
        "colab": {}
      },
      "source": [
        ""
      ],
      "execution_count": 0,
      "outputs": []
    }
  ]
}