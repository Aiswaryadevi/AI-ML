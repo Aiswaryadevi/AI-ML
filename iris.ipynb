{
  "nbformat": 4,
  "nbformat_minor": 0,
  "metadata": {
    "colab": {
      "name": "iris.ipynb",
      "provenance": [],
      "include_colab_link": true
    },
    "kernelspec": {
      "name": "python3",
      "display_name": "Python 3"
    }
  },
  "cells": [
    {
      "cell_type": "markdown",
      "metadata": {
        "id": "view-in-github",
        "colab_type": "text"
      },
      "source": [
        "<a href=\"https://colab.research.google.com/github/Aiswaryadevi/AI-deeplearning/blob/master/iris.ipynb\" target=\"_parent\"><img src=\"https://colab.research.google.com/assets/colab-badge.svg\" alt=\"Open In Colab\"/></a>"
      ]
    },
    {
      "cell_type": "code",
      "metadata": {
        "id": "i6R_YQB-mTWX",
        "colab_type": "code",
        "colab": {}
      },
      "source": [
        "import numpy as np\n",
        "from sklearn.datasets import load_iris"
      ],
      "execution_count": 0,
      "outputs": []
    },
    {
      "cell_type": "code",
      "metadata": {
        "id": "DAu8wsj4m5xg",
        "colab_type": "code",
        "colab": {}
      },
      "source": [
        "from sklearn.neural_network import MLPClassifier\n",
        "X,y=load_iris(return_X_y=True)\n"
      ],
      "execution_count": 0,
      "outputs": []
    },
    {
      "cell_type": "code",
      "metadata": {
        "id": "f9hmb8t6ntiN",
        "colab_type": "code",
        "outputId": "ae9d0fc2-6ca5-46ab-b18a-42a049f7ce9f",
        "colab": {
          "base_uri": "https://localhost:8080/",
          "height": 34
        }
      },
      "source": [
        "print(type(X)) "
      ],
      "execution_count": 3,
      "outputs": [
        {
          "output_type": "stream",
          "text": [
            "<class 'numpy.ndarray'>\n"
          ],
          "name": "stdout"
        }
      ]
    },
    {
      "cell_type": "code",
      "metadata": {
        "id": "Jf7RYdVppSCt",
        "colab_type": "code",
        "outputId": "ba738f54-d4a4-421c-dfd4-7a32e542b128",
        "colab": {
          "base_uri": "https://localhost:8080/",
          "height": 34
        }
      },
      "source": [
        "print(X.shape)"
      ],
      "execution_count": 4,
      "outputs": [
        {
          "output_type": "stream",
          "text": [
            "(150, 4)\n"
          ],
          "name": "stdout"
        }
      ]
    },
    {
      "cell_type": "code",
      "metadata": {
        "id": "PekD4ZubpWYw",
        "colab_type": "code",
        "outputId": "a3b56e09-dc54-4616-b43b-624277c137ba",
        "colab": {
          "base_uri": "https://localhost:8080/",
          "height": 34
        }
      },
      "source": [
        "print(y.shape\n",
        "    )"
      ],
      "execution_count": 5,
      "outputs": [
        {
          "output_type": "stream",
          "text": [
            "(150,)\n"
          ],
          "name": "stdout"
        }
      ]
    },
    {
      "cell_type": "code",
      "metadata": {
        "id": "1aBrQ-CqpocM",
        "colab_type": "code",
        "colab": {}
      },
      "source": [
        "from sklearn.model_selection import train_test_split\n",
        "X_train, X_test, y_train, y_test=train_test_split(X, y, test_size=0.2,stratify=y,random_state=42) "
      ],
      "execution_count": 0,
      "outputs": []
    },
    {
      "cell_type": "code",
      "metadata": {
        "id": "z6nMuVPdqlKZ",
        "colab_type": "code",
        "colab": {}
      },
      "source": [
        "mlpclassifier=MLPClassifier(solver='lbfgs',alpha=1e-5,hidden_layer_sizes=(10,5),random_state=1)"
      ],
      "execution_count": 0,
      "outputs": []
    },
    {
      "cell_type": "code",
      "metadata": {
        "id": "2HRpRIbbsHzM",
        "colab_type": "code",
        "outputId": "efa2abe6-1a7b-4825-a150-0596724c9cba",
        "colab": {
          "base_uri": "https://localhost:8080/",
          "height": 153
        }
      },
      "source": [
        "mlpclassifier.fit(X_train,y_train)"
      ],
      "execution_count": 8,
      "outputs": [
        {
          "output_type": "execute_result",
          "data": {
            "text/plain": [
              "MLPClassifier(activation='relu', alpha=1e-05, batch_size='auto', beta_1=0.9,\n",
              "              beta_2=0.999, early_stopping=False, epsilon=1e-08,\n",
              "              hidden_layer_sizes=(10, 5), learning_rate='constant',\n",
              "              learning_rate_init=0.001, max_fun=15000, max_iter=200,\n",
              "              momentum=0.9, n_iter_no_change=10, nesterovs_momentum=True,\n",
              "              power_t=0.5, random_state=1, shuffle=True, solver='lbfgs',\n",
              "              tol=0.0001, validation_fraction=0.1, verbose=False,\n",
              "              warm_start=False)"
            ]
          },
          "metadata": {
            "tags": []
          },
          "execution_count": 8
        }
      ]
    },
    {
      "cell_type": "code",
      "metadata": {
        "id": "Uoca_14ctitj",
        "colab_type": "code",
        "outputId": "1acd0f89-7ff5-4b25-9be6-b3f1d1627580",
        "colab": {
          "base_uri": "https://localhost:8080/",
          "height": 34
        }
      },
      "source": [
        "score = mlpclassifier.score(X_test, y_test) \n",
        "print(score)"
      ],
      "execution_count": 9,
      "outputs": [
        {
          "output_type": "stream",
          "text": [
            "0.9666666666666667\n"
          ],
          "name": "stdout"
        }
      ]
    },
    {
      "cell_type": "code",
      "metadata": {
        "id": "bsra75rNuxuU",
        "colab_type": "code",
        "outputId": "67c2e9c1-b5a8-4258-8139-26dfdddf97e3",
        "colab": {
          "base_uri": "https://localhost:8080/",
          "height": 374
        }
      },
      "source": [
        "# The weights estimated for MLP\n",
        "print(mlpclassifier.coefs_)\n"
      ],
      "execution_count": 11,
      "outputs": [
        {
          "output_type": "stream",
          "text": [
            "[array([[-0.74873504, -7.62627201, -0.6544739 , -0.66842282, -0.46248389,\n",
            "        -0.53372959, -0.41076297, -0.2021992 , -0.13515691, -2.68162279],\n",
            "       [-0.33073444, -8.85909218, -0.38694509, -2.65902699, -0.61876652,\n",
            "         0.22318413, -0.10826846,  0.0768395 , -0.47082243, -1.65659687],\n",
            "       [-0.31002057, 14.39505881, -0.24427389,  5.82013831,  0.49278648,\n",
            "         0.51663771, -0.54327974, -0.60349128, -0.43227363, -1.76707252],\n",
            "       [-0.79979511, 10.52850006,  0.59949063,  3.14620518,  0.25121459,\n",
            "        -0.24153566,  0.24417584,  0.43810776, -0.63067977, -0.4911419 ]]), array([[-0.60793017, -0.07925471, -0.36474806, -0.20304076, -0.37071496],\n",
            "       [-0.56522601, -2.76655869, -0.40484672, 25.29351637,  2.52222009],\n",
            "       [-0.50298851, -0.10870655,  0.24588763, -0.10855061, -0.56924274],\n",
            "       [-0.16019909, -0.58585562,  0.24008935,  2.08837037, -0.39610476],\n",
            "       [ 0.51024415, -0.45854123, -0.45626241,  0.38880481, -0.12942377],\n",
            "       [-0.42327777,  0.54073553, -0.19255382,  0.31724045,  0.28585424],\n",
            "       [ 0.48482588,  0.15642717,  0.3174053 , -0.19112139, -0.29100741],\n",
            "       [ 0.50073789, -0.09095408,  0.58795435,  0.20672948,  0.1539272 ],\n",
            "       [-0.48728973,  0.56853786, -0.06335379,  0.09915134, -0.11619345],\n",
            "       [-0.33262223, -0.37449347,  0.09319372, -0.28535382, -0.91254381]]), array([[ 0.21278453, -0.8376133 ,  0.74367421],\n",
            "       [-0.13944375,  0.47794155,  0.28598228],\n",
            "       [-0.30569319,  0.52803922,  0.23930986],\n",
            "       [-5.88952585,  2.92408604,  3.09592553],\n",
            "       [ 5.47263561, -1.70307338, -3.32129295]])]\n"
          ],
          "name": "stdout"
        }
      ]
    },
    {
      "cell_type": "code",
      "metadata": {
        "id": "iAyWcpwCvDcL",
        "colab_type": "code",
        "colab": {}
      },
      "source": [
        ""
      ],
      "execution_count": 0,
      "outputs": []
    }
  ]
}