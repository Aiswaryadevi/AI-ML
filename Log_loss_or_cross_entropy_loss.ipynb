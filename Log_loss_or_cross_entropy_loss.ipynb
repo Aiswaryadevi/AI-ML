{
  "nbformat": 4,
  "nbformat_minor": 0,
  "metadata": {
    "colab": {
      "name": "Log-loss or cross-entropy loss.ipynb",
      "provenance": [],
      "authorship_tag": "ABX9TyOpxS4yVZ4S1k47fq1IYHbE",
      "include_colab_link": true
    },
    "kernelspec": {
      "name": "python3",
      "display_name": "Python 3"
    }
  },
  "cells": [
    {
      "cell_type": "markdown",
      "metadata": {
        "id": "view-in-github",
        "colab_type": "text"
      },
      "source": [
        "<a href=\"https://colab.research.google.com/github/Aiswaryadevi/AI-deeplearning/blob/master/Log_loss_or_cross_entropy_loss.ipynb\" target=\"_parent\"><img src=\"https://colab.research.google.com/assets/colab-badge.svg\" alt=\"Open In Colab\"/></a>"
      ]
    },
    {
      "cell_type": "code",
      "metadata": {
        "id": "fDFxAUreupsg",
        "colab_type": "code",
        "colab": {}
      },
      "source": [
        "from sklearn.metrics import log_loss\n",
        "import numpy as np"
      ],
      "execution_count": 0,
      "outputs": []
    },
    {
      "cell_type": "code",
      "metadata": {
        "id": "H3p87ZAVuwfL",
        "colab_type": "code",
        "colab": {
          "base_uri": "https://localhost:8080/",
          "height": 34
        },
        "outputId": "27e6f301-7e5c-41af-8811-1e65ec963dc4"
      },
      "source": [
        "y_true = [0, 0, 1, 1] \n",
        "y_pred = [[.9, .1], [.8, .2], [.3, .7], [.01, .99]] \n",
        "cross_entropy_loss = log_loss(y_true, y_pred,labels=[1,0])  \n",
        "print(\"Cross entropy loss: %f\" % cross_entropy_loss)"
      ],
      "execution_count": 2,
      "outputs": [
        {
          "output_type": "stream",
          "text": [
            "Cross entropy loss: 0.173807\n"
          ],
          "name": "stdout"
        }
      ]
    },
    {
      "cell_type": "code",
      "metadata": {
        "id": "Yg2LDk5buy2F",
        "colab_type": "code",
        "colab": {}
      },
      "source": [
        ""
      ],
      "execution_count": 0,
      "outputs": []
    }
  ]
}