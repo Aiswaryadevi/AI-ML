{
  "nbformat": 4,
  "nbformat_minor": 0,
  "metadata": {
    "colab": {
      "name": "Wine data classification with BatchNorm.ipynb",
      "provenance": [],
      "authorship_tag": "ABX9TyN4qyC5ytEnitHTA0J2HQAI",
      "include_colab_link": true
    },
    "kernelspec": {
      "name": "python3",
      "display_name": "Python 3"
    }
  },
  "cells": [
    {
      "cell_type": "markdown",
      "metadata": {
        "id": "view-in-github",
        "colab_type": "text"
      },
      "source": [
        "<a href=\"https://colab.research.google.com/github/Aiswaryadevi/AI-deeplearning/blob/master/Wine_data_classification_with_BatchNorm.ipynb\" target=\"_parent\"><img src=\"https://colab.research.google.com/assets/colab-badge.svg\" alt=\"Open In Colab\"/></a>"
      ]
    },
    {
      "cell_type": "code",
      "metadata": {
        "id": "mvR6Zg3GMHQv",
        "colab_type": "code",
        "colab": {}
      },
      "source": [
        "import numpy as np\n",
        "import pandas as pd\n",
        "import matplotlib.pyplot as plt\n",
        "# Load the dataset from sklearn\n",
        "from sklearn.datasets import load_wine"
      ],
      "execution_count": 0,
      "outputs": []
    },
    {
      "cell_type": "code",
      "metadata": {
        "id": "HwIC2VJQMVO-",
        "colab_type": "code",
        "outputId": "4404064a-4933-497c-f382-c65ee5b8a0f4",
        "colab": {
          "base_uri": "https://localhost:8080/",
          "height": 65
        }
      },
      "source": [
        "# Importing both TensorFlow and its high level API - Keras.\n",
        "import tensorflow as tf\n",
        "from tensorflow import keras"
      ],
      "execution_count": 0,
      "outputs": [
        {
          "output_type": "display_data",
          "data": {
            "text/html": [
              "<p style=\"color: red;\">\n",
              "The default version of TensorFlow in Colab will soon switch to TensorFlow 2.x.<br>\n",
              "We recommend you <a href=\"https://www.tensorflow.org/guide/migrate\" target=\"_blank\">upgrade</a> now \n",
              "or ensure your notebook will continue to use TensorFlow 1.x via the <code>%tensorflow_version 1.x</code> magic:\n",
              "<a href=\"https://colab.research.google.com/notebooks/tensorflow_version.ipynb\" target=\"_blank\">more info</a>.</p>\n"
            ],
            "text/plain": [
              "<IPython.core.display.HTML object>"
            ]
          },
          "metadata": {
            "tags": []
          }
        }
      ]
    },
    {
      "cell_type": "code",
      "metadata": {
        "id": "hrCxrbYCMbbV",
        "colab_type": "code",
        "colab": {}
      },
      "source": [
        "# Setting the random seeds for repeatability\n",
        "tf.random.set_random_seed(42)\n",
        "np.random.seed(42)\n",
        "# Loading the dataset\n",
        "wineData = load_wine()"
      ],
      "execution_count": 0,
      "outputs": []
    },
    {
      "cell_type": "code",
      "metadata": {
        "id": "QKLHirErMer3",
        "colab_type": "code",
        "colab": {}
      },
      "source": [
        "X = wineData.data\n",
        "y = wineData.target\n",
        "\n",
        "# Split the data into 80% training and 20% testing\n",
        "from sklearn.model_selection import train_test_split\n",
        "\n",
        "X_train, X_test, y_train, y_test = train_test_split(X, y, test_size=0.2,\n",
        "stratify=y, random_state=42)"
      ],
      "execution_count": 0,
      "outputs": []
    },
    {
      "cell_type": "code",
      "metadata": {
        "id": "V0wRVdB0M4K9",
        "colab_type": "code",
        "outputId": "11d69cc6-80a1-4c96-bec6-99bc8882d71e",
        "colab": {
          "base_uri": "https://localhost:8080/",
          "height": 35
        }
      },
      "source": [
        "# Feature scaling using Standardization\n",
        "from sklearn.preprocessing import StandardScaler\n",
        "sc = StandardScaler()\n",
        "# Training the feature scaling parameters\n",
        "sc.fit(X_train)"
      ],
      "execution_count": 0,
      "outputs": [
        {
          "output_type": "execute_result",
          "data": {
            "text/plain": [
              "StandardScaler(copy=True, with_mean=True, with_std=True)"
            ]
          },
          "metadata": {
            "tags": []
          },
          "execution_count": 6
        }
      ]
    },
    {
      "cell_type": "code",
      "metadata": {
        "id": "iu4WIsmNM_wQ",
        "colab_type": "code",
        "outputId": "bf71a6e4-68c0-4316-b677-7c2e32408665",
        "colab": {
          "base_uri": "https://localhost:8080/",
          "height": 35
        }
      },
      "source": [
        "# Feature scaling using Standardization\n",
        "from sklearn.preprocessing import StandardScaler\n",
        "sc = StandardScaler()\n",
        "# Training the feature scaling parameters\n",
        "sc.fit(X_train)"
      ],
      "execution_count": 0,
      "outputs": [
        {
          "output_type": "execute_result",
          "data": {
            "text/plain": [
              "StandardScaler(copy=True, with_mean=True, with_std=True)"
            ]
          },
          "metadata": {
            "tags": []
          },
          "execution_count": 7
        }
      ]
    },
    {
      "cell_type": "code",
      "metadata": {
        "id": "FIkQ30ywNDVo",
        "colab_type": "code",
        "outputId": "6d717034-b939-4d20-852f-f1fa6a70f266",
        "colab": {
          "base_uri": "https://localhost:8080/",
          "height": 92
        }
      },
      "source": [
        "# Applying transformations to both training and testing set\n",
        "X_train_std = sc.transform(X_train)\n",
        "X_test_std = sc.transform(X_test)\n",
        "# Create neural network using keras API\n",
        "# Sequential() does linear stacking of layers\n",
        "model_DNN = keras.models.Sequential()\n",
        "# Hidden layer definitions\n",
        "model_DNN.add(keras.layers.Dense(units=15, activation='relu', input_shape=\n",
        "X_train.shape[1:]))"
      ],
      "execution_count": 0,
      "outputs": [
        {
          "output_type": "stream",
          "text": [
            "WARNING:tensorflow:From /usr/local/lib/python3.6/dist-packages/tensorflow_core/python/ops/resource_variable_ops.py:1630: calling BaseResourceVariable.__init__ (from tensorflow.python.ops.resource_variable_ops) with constraint is deprecated and will be removed in a future version.\n",
            "Instructions for updating:\n",
            "If using Keras pass *_constraint arguments to layers.\n"
          ],
          "name": "stdout"
        }
      ]
    },
    {
      "cell_type": "code",
      "metadata": {
        "id": "4s_1kaNONMhi",
        "colab_type": "code",
        "outputId": "b70aaec1-fdd8-4207-f0a3-ae1b546dcb55",
        "colab": {
          "base_uri": "https://localhost:8080/",
          "height": 454
        }
      },
      "source": [
        "model_DNN.add(keras.layers.BatchNormalization())\n",
        "# Dropout layer with 10% of nodes being discarded in each training step.\n",
        "model_DNN.add(keras.layers.Dropout(0.1))\n",
        "model_DNN.add(keras.layers.Dense(units=12, activation='relu'))\n",
        "# Dropout layer with 10% of nodes being discarded in each training step.\n",
        "model_DNN.add(keras.layers.Dropout(0.1))\n",
        "model_DNN.add(keras.layers.Dense(units=8, activation='relu'))\n",
        "model_DNN.add(keras.layers.Dense(units=4, activation='relu'))\n",
        "# Output layer definitions\n",
        "model_DNN.add(keras.layers.Dense(units=3, activation='softmax'))\n",
        "# Print the summary of network architecture\n",
        "model_DNN.summary()"
      ],
      "execution_count": 0,
      "outputs": [
        {
          "output_type": "stream",
          "text": [
            "Model: \"sequential\"\n",
            "_________________________________________________________________\n",
            "Layer (type)                 Output Shape              Param #   \n",
            "=================================================================\n",
            "dense (Dense)                (None, 15)                210       \n",
            "_________________________________________________________________\n",
            "batch_normalization (BatchNo (None, 15)                60        \n",
            "_________________________________________________________________\n",
            "dropout (Dropout)            (None, 15)                0         \n",
            "_________________________________________________________________\n",
            "dense_1 (Dense)              (None, 12)                192       \n",
            "_________________________________________________________________\n",
            "dropout_1 (Dropout)          (None, 12)                0         \n",
            "_________________________________________________________________\n",
            "dense_2 (Dense)              (None, 8)                 104       \n",
            "_________________________________________________________________\n",
            "dense_3 (Dense)              (None, 4)                 36        \n",
            "_________________________________________________________________\n",
            "dense_4 (Dense)              (None, 3)                 15        \n",
            "=================================================================\n",
            "Total params: 617\n",
            "Trainable params: 587\n",
            "Non-trainable params: 30\n",
            "_________________________________________________________________\n"
          ],
          "name": "stdout"
        }
      ]
    },
    {
      "cell_type": "code",
      "metadata": {
        "id": "1jek3KQtNYsy",
        "colab_type": "code",
        "outputId": "9938ef65-133a-48ab-f005-6df8d724fea7",
        "colab": {
          "base_uri": "https://localhost:8080/",
          "height": 1000
        }
      },
      "source": [
        "# Compile the network model with relevant configurations.\n",
        "# loss, optimizer and metrics are three important configurations.\n",
        "model_DNN.compile(loss='sparse_categorical_crossentropy',\n",
        "optimizer='adam', metrics=['accuracy'])\n",
        "# Train the network model with the 80% training set.\n",
        "# During the training phase, 10% of the training data is\n",
        "# kept for internal validation.\n",
        "# The internal validation is useful for progressive evaluation.\n",
        "# epochs and batch_size are hyperparameters and they need to\n",
        "# be set depending on the problem.\n",
        "model_DNN.fit(x=X_train_std, y=y_train, validation_split=0.1, epochs=50,\n",
        "batch_size=16)\n",
        "\n",
        "# Evaluate the model with the 20% testing set.\n",
        "# The function to evaluate the model returns two values,\n",
        "# output loss, and the accuracy.\n",
        "test_loss, test_accuracy = model_DNN.evaluate(x=X_test_std, y=y_test)\n",
        "\n",
        "# Print the output loss and accuracy.\n",
        "# Depending on the computer used for evaluation,\n",
        "# the results might slightly vary.\n",
        "# The accuracy obtained can be close enough to what is obtained here\n",
        "print(test_loss, test_accuracy)"
      ],
      "execution_count": 0,
      "outputs": [
        {
          "output_type": "stream",
          "text": [
            "Train on 127 samples, validate on 15 samples\n",
            "Epoch 1/50\n",
            "127/127 [==============================] - 0s 3ms/sample - loss: 1.3792 - acc: 0.3622 - val_loss: 1.2139 - val_acc: 0.1333\n",
            "Epoch 2/50\n",
            "127/127 [==============================] - 0s 230us/sample - loss: 1.2979 - acc: 0.3386 - val_loss: 1.1714 - val_acc: 0.0667\n",
            "Epoch 3/50\n",
            "127/127 [==============================] - 0s 195us/sample - loss: 1.1703 - acc: 0.3780 - val_loss: 1.1427 - val_acc: 0.0667\n",
            "Epoch 4/50\n",
            "127/127 [==============================] - 0s 197us/sample - loss: 1.1757 - acc: 0.3780 - val_loss: 1.1200 - val_acc: 0.0667\n",
            "Epoch 5/50\n",
            "127/127 [==============================] - 0s 196us/sample - loss: 1.0966 - acc: 0.4016 - val_loss: 1.1004 - val_acc: 0.3333\n",
            "Epoch 6/50\n",
            "127/127 [==============================] - 0s 192us/sample - loss: 1.0803 - acc: 0.4094 - val_loss: 1.0805 - val_acc: 0.4000\n",
            "Epoch 7/50\n",
            "127/127 [==============================] - 0s 190us/sample - loss: 1.0651 - acc: 0.4488 - val_loss: 1.0601 - val_acc: 0.5333\n",
            "Epoch 8/50\n",
            "127/127 [==============================] - 0s 173us/sample - loss: 1.0113 - acc: 0.4567 - val_loss: 1.0411 - val_acc: 0.5333\n",
            "Epoch 9/50\n",
            "127/127 [==============================] - 0s 198us/sample - loss: 0.9746 - acc: 0.4803 - val_loss: 1.0232 - val_acc: 0.5333\n",
            "Epoch 10/50\n",
            "127/127 [==============================] - 0s 187us/sample - loss: 0.9485 - acc: 0.5118 - val_loss: 1.0059 - val_acc: 0.6000\n",
            "Epoch 11/50\n",
            "127/127 [==============================] - 0s 178us/sample - loss: 0.9394 - acc: 0.5276 - val_loss: 0.9889 - val_acc: 0.5333\n",
            "Epoch 12/50\n",
            "127/127 [==============================] - 0s 222us/sample - loss: 0.8868 - acc: 0.6299 - val_loss: 0.9745 - val_acc: 0.5333\n",
            "Epoch 13/50\n",
            "127/127 [==============================] - 0s 213us/sample - loss: 0.8819 - acc: 0.5512 - val_loss: 0.9605 - val_acc: 0.5333\n",
            "Epoch 14/50\n",
            "127/127 [==============================] - 0s 210us/sample - loss: 0.8236 - acc: 0.6693 - val_loss: 0.9465 - val_acc: 0.5333\n",
            "Epoch 15/50\n",
            "127/127 [==============================] - 0s 208us/sample - loss: 0.8243 - acc: 0.6614 - val_loss: 0.9313 - val_acc: 0.5333\n",
            "Epoch 16/50\n",
            "127/127 [==============================] - 0s 182us/sample - loss: 0.8138 - acc: 0.6142 - val_loss: 0.9165 - val_acc: 0.5333\n",
            "Epoch 17/50\n",
            "127/127 [==============================] - 0s 208us/sample - loss: 0.7743 - acc: 0.6850 - val_loss: 0.9007 - val_acc: 0.5333\n",
            "Epoch 18/50\n",
            "127/127 [==============================] - 0s 200us/sample - loss: 0.7481 - acc: 0.7008 - val_loss: 0.8827 - val_acc: 0.5333\n",
            "Epoch 19/50\n",
            "127/127 [==============================] - 0s 191us/sample - loss: 0.7634 - acc: 0.6693 - val_loss: 0.8667 - val_acc: 0.5333\n",
            "Epoch 20/50\n",
            "127/127 [==============================] - 0s 213us/sample - loss: 0.6934 - acc: 0.7402 - val_loss: 0.8504 - val_acc: 0.5333\n",
            "Epoch 21/50\n",
            "127/127 [==============================] - 0s 173us/sample - loss: 0.6806 - acc: 0.7323 - val_loss: 0.8328 - val_acc: 0.5333\n",
            "Epoch 22/50\n",
            "127/127 [==============================] - 0s 178us/sample - loss: 0.6529 - acc: 0.7795 - val_loss: 0.8131 - val_acc: 0.5333\n",
            "Epoch 23/50\n",
            "127/127 [==============================] - 0s 217us/sample - loss: 0.6356 - acc: 0.7795 - val_loss: 0.7891 - val_acc: 0.5333\n",
            "Epoch 24/50\n",
            "127/127 [==============================] - 0s 202us/sample - loss: 0.6233 - acc: 0.7638 - val_loss: 0.7632 - val_acc: 0.5333\n",
            "Epoch 25/50\n",
            "127/127 [==============================] - 0s 254us/sample - loss: 0.5722 - acc: 0.8583 - val_loss: 0.7335 - val_acc: 0.6667\n",
            "Epoch 26/50\n",
            "127/127 [==============================] - 0s 198us/sample - loss: 0.5599 - acc: 0.8268 - val_loss: 0.6998 - val_acc: 0.7333\n",
            "Epoch 27/50\n",
            "127/127 [==============================] - 0s 188us/sample - loss: 0.4994 - acc: 0.8661 - val_loss: 0.6653 - val_acc: 0.7333\n",
            "Epoch 28/50\n",
            "127/127 [==============================] - 0s 179us/sample - loss: 0.5369 - acc: 0.8504 - val_loss: 0.6280 - val_acc: 0.8000\n",
            "Epoch 29/50\n",
            "127/127 [==============================] - 0s 175us/sample - loss: 0.4968 - acc: 0.8740 - val_loss: 0.5929 - val_acc: 0.8000\n",
            "Epoch 30/50\n",
            "127/127 [==============================] - 0s 202us/sample - loss: 0.4438 - acc: 0.8819 - val_loss: 0.5543 - val_acc: 0.8000\n",
            "Epoch 31/50\n",
            "127/127 [==============================] - 0s 186us/sample - loss: 0.4388 - acc: 0.8898 - val_loss: 0.5163 - val_acc: 0.8667\n",
            "Epoch 32/50\n",
            "127/127 [==============================] - 0s 212us/sample - loss: 0.3877 - acc: 0.9291 - val_loss: 0.4728 - val_acc: 0.9333\n",
            "Epoch 33/50\n",
            "127/127 [==============================] - 0s 207us/sample - loss: 0.4095 - acc: 0.8661 - val_loss: 0.4283 - val_acc: 0.9333\n",
            "Epoch 34/50\n",
            "127/127 [==============================] - 0s 178us/sample - loss: 0.4258 - acc: 0.9213 - val_loss: 0.3952 - val_acc: 0.9333\n",
            "Epoch 35/50\n",
            "127/127 [==============================] - 0s 213us/sample - loss: 0.3503 - acc: 0.9291 - val_loss: 0.3551 - val_acc: 0.9333\n",
            "Epoch 36/50\n",
            "127/127 [==============================] - 0s 204us/sample - loss: 0.3797 - acc: 0.9213 - val_loss: 0.3204 - val_acc: 1.0000\n",
            "Epoch 37/50\n",
            "127/127 [==============================] - 0s 188us/sample - loss: 0.3342 - acc: 0.9213 - val_loss: 0.2873 - val_acc: 1.0000\n",
            "Epoch 38/50\n",
            "127/127 [==============================] - 0s 189us/sample - loss: 0.2882 - acc: 0.9606 - val_loss: 0.2609 - val_acc: 1.0000\n",
            "Epoch 39/50\n",
            "127/127 [==============================] - 0s 179us/sample - loss: 0.2489 - acc: 0.9606 - val_loss: 0.2339 - val_acc: 1.0000\n",
            "Epoch 40/50\n",
            "127/127 [==============================] - 0s 188us/sample - loss: 0.2734 - acc: 0.9606 - val_loss: 0.2082 - val_acc: 1.0000\n",
            "Epoch 41/50\n",
            "127/127 [==============================] - 0s 182us/sample - loss: 0.2729 - acc: 0.9528 - val_loss: 0.1839 - val_acc: 1.0000\n",
            "Epoch 42/50\n",
            "127/127 [==============================] - 0s 190us/sample - loss: 0.3102 - acc: 0.9213 - val_loss: 0.1677 - val_acc: 1.0000\n",
            "Epoch 43/50\n",
            "127/127 [==============================] - 0s 172us/sample - loss: 0.2906 - acc: 0.9213 - val_loss: 0.1531 - val_acc: 1.0000\n",
            "Epoch 44/50\n",
            "127/127 [==============================] - 0s 181us/sample - loss: 0.2105 - acc: 0.9606 - val_loss: 0.1398 - val_acc: 1.0000\n",
            "Epoch 45/50\n",
            "127/127 [==============================] - 0s 215us/sample - loss: 0.2220 - acc: 0.9449 - val_loss: 0.1277 - val_acc: 1.0000\n",
            "Epoch 46/50\n",
            "127/127 [==============================] - 0s 188us/sample - loss: 0.1815 - acc: 0.9843 - val_loss: 0.1192 - val_acc: 1.0000\n",
            "Epoch 47/50\n",
            "127/127 [==============================] - 0s 197us/sample - loss: 0.1901 - acc: 0.9370 - val_loss: 0.1108 - val_acc: 1.0000\n",
            "Epoch 48/50\n",
            "127/127 [==============================] - 0s 214us/sample - loss: 0.1574 - acc: 0.9843 - val_loss: 0.1021 - val_acc: 1.0000\n",
            "Epoch 49/50\n",
            "127/127 [==============================] - 0s 200us/sample - loss: 0.1925 - acc: 0.9449 - val_loss: 0.0937 - val_acc: 1.0000\n",
            "Epoch 50/50\n",
            "127/127 [==============================] - 0s 181us/sample - loss: 0.1730 - acc: 0.9606 - val_loss: 0.0871 - val_acc: 1.0000\n",
            "36/36 [==============================] - 0s 82us/sample - loss: 0.2339 - acc: 0.9167\n",
            "0.2338982696334521 0.9166667\n"
          ],
          "name": "stdout"
        }
      ]
    },
    {
      "cell_type": "code",
      "metadata": {
        "id": "JTeilGzVNfNy",
        "colab_type": "code",
        "colab": {}
      },
      "source": [
        ""
      ],
      "execution_count": 0,
      "outputs": []
    }
  ]
}