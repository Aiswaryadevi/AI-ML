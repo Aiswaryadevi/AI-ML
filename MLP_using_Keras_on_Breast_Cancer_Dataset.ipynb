{
  "nbformat": 4,
  "nbformat_minor": 0,
  "metadata": {
    "colab": {
      "name": "MLP using Keras on Breast Cancer Dataset.ipynb",
      "provenance": [],
      "authorship_tag": "ABX9TyNJYBviimanf2ZcixPHdVfN",
      "include_colab_link": true
    },
    "kernelspec": {
      "name": "python3",
      "display_name": "Python 3"
    }
  },
  "cells": [
    {
      "cell_type": "markdown",
      "metadata": {
        "id": "view-in-github",
        "colab_type": "text"
      },
      "source": [
        "<a href=\"https://colab.research.google.com/github/Aiswaryadevi/AI-deeplearning/blob/master/MLP_using_Keras_on_Breast_Cancer_Dataset.ipynb\" target=\"_parent\"><img src=\"https://colab.research.google.com/assets/colab-badge.svg\" alt=\"Open In Colab\"/></a>"
      ]
    },
    {
      "cell_type": "code",
      "metadata": {
        "id": "eY22Et6V3qyg",
        "colab_type": "code",
        "colab": {}
      },
      "source": [
        "import numpy as np\n",
        "import pandas as pd\n",
        "import matplotlib.pyplot as plt\n",
        "# Load the dataset from sklearn\n",
        "from sklearn.datasets import load_breast_cancer\n"
      ],
      "execution_count": 0,
      "outputs": []
    },
    {
      "cell_type": "code",
      "metadata": {
        "id": "2oPz617-3rhI",
        "colab_type": "code",
        "colab": {}
      },
      "source": [
        "# Importing both TensorFlow and its high level API - Keras.\n",
        "import tensorflow as tf\n",
        "from tensorflow import keras\n",
        "# Setting the random seeds for repeatability\n",
        "tf.set_random_seed(42)\n",
        "np.random.seed(42)\n"
      ],
      "execution_count": 0,
      "outputs": []
    },
    {
      "cell_type": "code",
      "metadata": {
        "id": "CF8opfhF30Ot",
        "colab_type": "code",
        "colab": {}
      },
      "source": [
        "# Loading the dataset\n",
        "cancerDataset = load_breast_cancer()\n",
        "# Load the attributes and target in X and y\n",
        "X = cancerDataset.data\n",
        "y = cancerDataset.target\n"
      ],
      "execution_count": 0,
      "outputs": []
    },
    {
      "cell_type": "code",
      "metadata": {
        "id": "2EL1zJ5Z32dO",
        "colab_type": "code",
        "colab": {}
      },
      "source": [
        "# Split the data into 80% training and 20% testing\n",
        "from sklearn.model_selection import train_test_split\n",
        "X_train, X_test, y_train, y_test = train_test_split(X, y, test_size=0.2,\n",
        " stratify=y, random_state=42)\n"
      ],
      "execution_count": 0,
      "outputs": []
    },
    {
      "cell_type": "code",
      "metadata": {
        "id": "5gkOQdCo35eD",
        "colab_type": "code",
        "colab": {}
      },
      "source": [
        "# Feature scaling using Standardization\n",
        "from sklearn.preprocessing import StandardScaler\n",
        "sc = StandardScaler()"
      ],
      "execution_count": 0,
      "outputs": []
    },
    {
      "cell_type": "code",
      "metadata": {
        "id": "qRXBLAgP37TX",
        "colab_type": "code",
        "colab": {}
      },
      "source": [
        "# Training the feature scaling parameters\n",
        "sc.fit(X_train)\n",
        "# Applying transformations to both training and testing set\n",
        "X_train_std = sc.transform(X_train)\n",
        "X_test_std = sc.transform(X_test)"
      ],
      "execution_count": 0,
      "outputs": []
    },
    {
      "cell_type": "code",
      "metadata": {
        "id": "VcmwBqwn39z9",
        "colab_type": "code",
        "colab": {}
      },
      "source": [
        "model_MLP = keras.models.Sequential()\n"
      ],
      "execution_count": 0,
      "outputs": []
    },
    {
      "cell_type": "code",
      "metadata": {
        "id": "8N3OlfaC4Avs",
        "colab_type": "code",
        "colab": {
          "base_uri": "https://localhost:8080/",
          "height": 88
        },
        "outputId": "920c87d5-87e1-49cc-ac58-9cead99e0298"
      },
      "source": [
        "\n",
        "# Hidden layer definitions\n",
        "model_MLP.add(keras.layers.Dense(units=5, activation='relu',\n",
        " input_shape= X_train.shape[1:]))\n"
      ],
      "execution_count": 15,
      "outputs": [
        {
          "output_type": "stream",
          "text": [
            "WARNING:tensorflow:From /usr/local/lib/python3.6/dist-packages/tensorflow_core/python/ops/resource_variable_ops.py:1630: calling BaseResourceVariable.__init__ (from tensorflow.python.ops.resource_variable_ops) with constraint is deprecated and will be removed in a future version.\n",
            "Instructions for updating:\n",
            "If using Keras pass *_constraint arguments to layers.\n"
          ],
          "name": "stdout"
        }
      ]
    },
    {
      "cell_type": "code",
      "metadata": {
        "id": "fCe1VV2X4Dga",
        "colab_type": "code",
        "colab": {
          "base_uri": "https://localhost:8080/",
          "height": 221
        },
        "outputId": "4c0db837-1d63-4471-af01-e13df6d47e97"
      },
      "source": [
        "# Output layer definitions\n",
        "model_MLP.add(keras.layers.Dense(units=1, activation='sigmoid'))\n",
        "# Print the summary of network architecture\n",
        "model_MLP.summary()\n"
      ],
      "execution_count": 16,
      "outputs": [
        {
          "output_type": "stream",
          "text": [
            "Model: \"sequential\"\n",
            "_________________________________________________________________\n",
            "Layer (type)                 Output Shape              Param #   \n",
            "=================================================================\n",
            "dense (Dense)                (None, 5)                 155       \n",
            "_________________________________________________________________\n",
            "dense_1 (Dense)              (None, 1)                 6         \n",
            "=================================================================\n",
            "Total params: 161\n",
            "Trainable params: 161\n",
            "Non-trainable params: 0\n",
            "_________________________________________________________________\n"
          ],
          "name": "stdout"
        }
      ]
    },
    {
      "cell_type": "code",
      "metadata": {
        "id": "HhamA4Hp4PbD",
        "colab_type": "code",
        "colab": {
          "base_uri": "https://localhost:8080/",
          "height": 88
        },
        "outputId": "70d329fa-d1db-47b8-d7d8-d377aa172f8b"
      },
      "source": [
        "# Compile the network model with relevant configurations.\n",
        "# loss, optimizer and metrics are three important configurations.\n",
        "model_MLP.compile(loss='binary_crossentropy', optimizer='adam',\n",
        " metrics=['accuracy'])\n"
      ],
      "execution_count": 17,
      "outputs": [
        {
          "output_type": "stream",
          "text": [
            "WARNING:tensorflow:From /usr/local/lib/python3.6/dist-packages/tensorflow_core/python/ops/nn_impl.py:183: where (from tensorflow.python.ops.array_ops) is deprecated and will be removed in a future version.\n",
            "Instructions for updating:\n",
            "Use tf.where in 2.0, which has the same broadcast rule as np.where\n"
          ],
          "name": "stdout"
        }
      ]
    },
    {
      "cell_type": "code",
      "metadata": {
        "id": "lt_Els0B4SSs",
        "colab_type": "code",
        "colab": {
          "base_uri": "https://localhost:8080/",
          "height": 1000
        },
        "outputId": "4ea875d3-4b45-4997-c549-16b3df054166"
      },
      "source": [
        "# epochs and batch_size are hyperparameters and they need to\n",
        "# be set depending on the problem.\n",
        "model_MLP.fit(x=X_train_std, y=y_train, validation_split=0.1,\n",
        " epochs=50, batch_size=16)\n"
      ],
      "execution_count": 18,
      "outputs": [
        {
          "output_type": "stream",
          "text": [
            "Train on 409 samples, validate on 46 samples\n",
            "Epoch 1/50\n",
            "409/409 [==============================] - 0s 696us/sample - loss: 1.1692 - acc: 0.3521 - val_loss: 1.0637 - val_acc: 0.2826\n",
            "Epoch 2/50\n",
            "409/409 [==============================] - 0s 104us/sample - loss: 0.9171 - acc: 0.4645 - val_loss: 0.8714 - val_acc: 0.3696\n",
            "Epoch 3/50\n",
            "409/409 [==============================] - 0s 96us/sample - loss: 0.7263 - acc: 0.5746 - val_loss: 0.7354 - val_acc: 0.4565\n",
            "Epoch 4/50\n",
            "409/409 [==============================] - 0s 100us/sample - loss: 0.5894 - acc: 0.6601 - val_loss: 0.6418 - val_acc: 0.5000\n",
            "Epoch 5/50\n",
            "409/409 [==============================] - 0s 97us/sample - loss: 0.4915 - acc: 0.7237 - val_loss: 0.5690 - val_acc: 0.5652\n",
            "Epoch 6/50\n",
            "409/409 [==============================] - 0s 95us/sample - loss: 0.4240 - acc: 0.7579 - val_loss: 0.5122 - val_acc: 0.6304\n",
            "Epoch 7/50\n",
            "409/409 [==============================] - 0s 121us/sample - loss: 0.3732 - acc: 0.7873 - val_loss: 0.4720 - val_acc: 0.6304\n",
            "Epoch 8/50\n",
            "409/409 [==============================] - 0s 124us/sample - loss: 0.3365 - acc: 0.8166 - val_loss: 0.4395 - val_acc: 0.6957\n",
            "Epoch 9/50\n",
            "409/409 [==============================] - 0s 104us/sample - loss: 0.3081 - acc: 0.8313 - val_loss: 0.4088 - val_acc: 0.7174\n",
            "Epoch 10/50\n",
            "409/409 [==============================] - 0s 110us/sample - loss: 0.2842 - acc: 0.8557 - val_loss: 0.3806 - val_acc: 0.7826\n",
            "Epoch 11/50\n",
            "409/409 [==============================] - 0s 113us/sample - loss: 0.2621 - acc: 0.8973 - val_loss: 0.3522 - val_acc: 0.8696\n",
            "Epoch 12/50\n",
            "409/409 [==============================] - 0s 97us/sample - loss: 0.2414 - acc: 0.9242 - val_loss: 0.3304 - val_acc: 0.8696\n",
            "Epoch 13/50\n",
            "409/409 [==============================] - 0s 116us/sample - loss: 0.2238 - acc: 0.9267 - val_loss: 0.3051 - val_acc: 0.8696\n",
            "Epoch 14/50\n",
            "409/409 [==============================] - 0s 110us/sample - loss: 0.2074 - acc: 0.9364 - val_loss: 0.2824 - val_acc: 0.8696\n",
            "Epoch 15/50\n",
            "409/409 [==============================] - 0s 115us/sample - loss: 0.1936 - acc: 0.9389 - val_loss: 0.2633 - val_acc: 0.8913\n",
            "Epoch 16/50\n",
            "409/409 [==============================] - 0s 108us/sample - loss: 0.1810 - acc: 0.9413 - val_loss: 0.2472 - val_acc: 0.8913\n",
            "Epoch 17/50\n",
            "409/409 [==============================] - 0s 105us/sample - loss: 0.1703 - acc: 0.9438 - val_loss: 0.2350 - val_acc: 0.9130\n",
            "Epoch 18/50\n",
            "409/409 [==============================] - 0s 105us/sample - loss: 0.1613 - acc: 0.9413 - val_loss: 0.2241 - val_acc: 0.9130\n",
            "Epoch 19/50\n",
            "409/409 [==============================] - 0s 100us/sample - loss: 0.1535 - acc: 0.9462 - val_loss: 0.2142 - val_acc: 0.9348\n",
            "Epoch 20/50\n",
            "409/409 [==============================] - 0s 98us/sample - loss: 0.1466 - acc: 0.9487 - val_loss: 0.2055 - val_acc: 0.9348\n",
            "Epoch 21/50\n",
            "409/409 [==============================] - 0s 97us/sample - loss: 0.1408 - acc: 0.9511 - val_loss: 0.1972 - val_acc: 0.9348\n",
            "Epoch 22/50\n",
            "409/409 [==============================] - 0s 93us/sample - loss: 0.1352 - acc: 0.9535 - val_loss: 0.1899 - val_acc: 0.9348\n",
            "Epoch 23/50\n",
            "409/409 [==============================] - 0s 98us/sample - loss: 0.1305 - acc: 0.9560 - val_loss: 0.1832 - val_acc: 0.9348\n",
            "Epoch 24/50\n",
            "409/409 [==============================] - 0s 102us/sample - loss: 0.1260 - acc: 0.9560 - val_loss: 0.1756 - val_acc: 0.9348\n",
            "Epoch 25/50\n",
            "409/409 [==============================] - 0s 94us/sample - loss: 0.1218 - acc: 0.9609 - val_loss: 0.1699 - val_acc: 0.9348\n",
            "Epoch 26/50\n",
            "409/409 [==============================] - 0s 96us/sample - loss: 0.1181 - acc: 0.9609 - val_loss: 0.1633 - val_acc: 0.9348\n",
            "Epoch 27/50\n",
            "409/409 [==============================] - 0s 93us/sample - loss: 0.1145 - acc: 0.9609 - val_loss: 0.1589 - val_acc: 0.9348\n",
            "Epoch 28/50\n",
            "409/409 [==============================] - 0s 98us/sample - loss: 0.1113 - acc: 0.9584 - val_loss: 0.1531 - val_acc: 0.9348\n",
            "Epoch 29/50\n",
            "409/409 [==============================] - 0s 108us/sample - loss: 0.1084 - acc: 0.9658 - val_loss: 0.1483 - val_acc: 0.9348\n",
            "Epoch 30/50\n",
            "409/409 [==============================] - 0s 101us/sample - loss: 0.1056 - acc: 0.9658 - val_loss: 0.1450 - val_acc: 0.9348\n",
            "Epoch 31/50\n",
            "409/409 [==============================] - 0s 93us/sample - loss: 0.1030 - acc: 0.9682 - val_loss: 0.1396 - val_acc: 0.9348\n",
            "Epoch 32/50\n",
            "409/409 [==============================] - 0s 96us/sample - loss: 0.1002 - acc: 0.9707 - val_loss: 0.1350 - val_acc: 0.9565\n",
            "Epoch 33/50\n",
            "409/409 [==============================] - 0s 102us/sample - loss: 0.0978 - acc: 0.9707 - val_loss: 0.1323 - val_acc: 0.9565\n",
            "Epoch 34/50\n",
            "409/409 [==============================] - 0s 98us/sample - loss: 0.0953 - acc: 0.9707 - val_loss: 0.1281 - val_acc: 0.9565\n",
            "Epoch 35/50\n",
            "409/409 [==============================] - 0s 99us/sample - loss: 0.0932 - acc: 0.9707 - val_loss: 0.1238 - val_acc: 0.9565\n",
            "Epoch 36/50\n",
            "409/409 [==============================] - 0s 93us/sample - loss: 0.0911 - acc: 0.9731 - val_loss: 0.1202 - val_acc: 0.9565\n",
            "Epoch 37/50\n",
            "409/409 [==============================] - 0s 100us/sample - loss: 0.0892 - acc: 0.9731 - val_loss: 0.1166 - val_acc: 0.9565\n",
            "Epoch 38/50\n",
            "409/409 [==============================] - 0s 96us/sample - loss: 0.0874 - acc: 0.9731 - val_loss: 0.1148 - val_acc: 0.9565\n",
            "Epoch 39/50\n",
            "409/409 [==============================] - 0s 97us/sample - loss: 0.0858 - acc: 0.9731 - val_loss: 0.1123 - val_acc: 0.9565\n",
            "Epoch 40/50\n",
            "409/409 [==============================] - 0s 104us/sample - loss: 0.0841 - acc: 0.9731 - val_loss: 0.1097 - val_acc: 0.9565\n",
            "Epoch 41/50\n",
            "409/409 [==============================] - 0s 94us/sample - loss: 0.0826 - acc: 0.9731 - val_loss: 0.1073 - val_acc: 0.9565\n",
            "Epoch 42/50\n",
            "409/409 [==============================] - 0s 94us/sample - loss: 0.0810 - acc: 0.9756 - val_loss: 0.1056 - val_acc: 0.9565\n",
            "Epoch 43/50\n",
            "409/409 [==============================] - 0s 96us/sample - loss: 0.0796 - acc: 0.9756 - val_loss: 0.1037 - val_acc: 0.9565\n",
            "Epoch 44/50\n",
            "409/409 [==============================] - 0s 101us/sample - loss: 0.0783 - acc: 0.9756 - val_loss: 0.1018 - val_acc: 0.9565\n",
            "Epoch 45/50\n",
            "409/409 [==============================] - 0s 97us/sample - loss: 0.0770 - acc: 0.9756 - val_loss: 0.0998 - val_acc: 0.9783\n",
            "Epoch 46/50\n",
            "409/409 [==============================] - 0s 97us/sample - loss: 0.0756 - acc: 0.9756 - val_loss: 0.0981 - val_acc: 0.9783\n",
            "Epoch 47/50\n",
            "409/409 [==============================] - 0s 100us/sample - loss: 0.0743 - acc: 0.9756 - val_loss: 0.0964 - val_acc: 0.9783\n",
            "Epoch 48/50\n",
            "409/409 [==============================] - 0s 116us/sample - loss: 0.0731 - acc: 0.9780 - val_loss: 0.0937 - val_acc: 0.9783\n",
            "Epoch 49/50\n",
            "409/409 [==============================] - 0s 101us/sample - loss: 0.0718 - acc: 0.9804 - val_loss: 0.0923 - val_acc: 0.9783\n",
            "Epoch 50/50\n",
            "409/409 [==============================] - 0s 97us/sample - loss: 0.0706 - acc: 0.9853 - val_loss: 0.0911 - val_acc: 0.9783\n"
          ],
          "name": "stdout"
        },
        {
          "output_type": "execute_result",
          "data": {
            "text/plain": [
              "<tensorflow.python.keras.callbacks.History at 0x7f261b9c3cc0>"
            ]
          },
          "metadata": {
            "tags": []
          },
          "execution_count": 18
        }
      ]
    },
    {
      "cell_type": "code",
      "metadata": {
        "id": "pTih_b914U-g",
        "colab_type": "code",
        "colab": {
          "base_uri": "https://localhost:8080/",
          "height": 34
        },
        "outputId": "17c1d9a0-56e7-4b13-a163-5fbf99e36550"
      },
      "source": [
        "# Evaluate the model with the 20% testing set.\n",
        "# The function to evaluate the model returns two values,\n",
        "# output loss, and the accuracy.\n",
        "test_loss, test_accuracy = model_MLP.evaluate(x=X_test_std, y=y_test)"
      ],
      "execution_count": 19,
      "outputs": [
        {
          "output_type": "stream",
          "text": [
            "114/114 [==============================] - 0s 117us/sample - loss: 0.1093 - acc: 0.9649\n"
          ],
          "name": "stdout"
        }
      ]
    },
    {
      "cell_type": "code",
      "metadata": {
        "id": "9y8k7erg4Xb6",
        "colab_type": "code",
        "colab": {
          "base_uri": "https://localhost:8080/",
          "height": 34
        },
        "outputId": "e670c863-2b0d-4958-f099-50764692ce8b"
      },
      "source": [
        "print(test_loss, test_accuracy)"
      ],
      "execution_count": 20,
      "outputs": [
        {
          "output_type": "stream",
          "text": [
            "0.10926503740381777 0.9649123\n"
          ],
          "name": "stdout"
        }
      ]
    },
    {
      "cell_type": "code",
      "metadata": {
        "id": "Z3CXwN4J4Zi8",
        "colab_type": "code",
        "colab": {}
      },
      "source": [
        ""
      ],
      "execution_count": 0,
      "outputs": []
    }
  ]
}