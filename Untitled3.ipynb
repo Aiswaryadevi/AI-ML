{
  "nbformat": 4,
  "nbformat_minor": 0,
  "metadata": {
    "colab": {
      "name": "Untitled3.ipynb",
      "provenance": [],
      "authorship_tag": "ABX9TyMfARXbHHMMVAqv9u5pr4Vh",
      "include_colab_link": true
    },
    "kernelspec": {
      "name": "python3",
      "display_name": "Python 3"
    }
  },
  "cells": [
    {
      "cell_type": "markdown",
      "metadata": {
        "id": "view-in-github",
        "colab_type": "text"
      },
      "source": [
        "<a href=\"https://colab.research.google.com/github/Aiswaryadevi/AI-deeplearning/blob/master/Untitled3.ipynb\" target=\"_parent\"><img src=\"https://colab.research.google.com/assets/colab-badge.svg\" alt=\"Open In Colab\"/></a>"
      ]
    },
    {
      "cell_type": "code",
      "metadata": {
        "id": "ayNWC0y3weYf",
        "colab_type": "code",
        "colab": {
          "base_uri": "https://localhost:8080/",
          "height": 62
        },
        "outputId": "529618e7-e19e-487c-fcba-6fceb1976405"
      },
      "source": [
        "import numpy as np\n",
        "import pandas as pd\n",
        "import matplotlib.pyplot as plt\n",
        "# Load the dataset from sklearn\n",
        "from sklearn.datasets import load_wine\n",
        "# Importing both TensorFlow and its high level API - Keras.\n",
        "import tensorflow as tf\n",
        "from tensorflow import keras"
      ],
      "execution_count": 1,
      "outputs": [
        {
          "output_type": "display_data",
          "data": {
            "text/html": [
              "<p style=\"color: red;\">\n",
              "The default version of TensorFlow in Colab will soon switch to TensorFlow 2.x.<br>\n",
              "We recommend you <a href=\"https://www.tensorflow.org/guide/migrate\" target=\"_blank\">upgrade</a> now \n",
              "or ensure your notebook will continue to use TensorFlow 1.x via the <code>%tensorflow_version 1.x</code> magic:\n",
              "<a href=\"https://colab.research.google.com/notebooks/tensorflow_version.ipynb\" target=\"_blank\">more info</a>.</p>\n"
            ],
            "text/plain": [
              "<IPython.core.display.HTML object>"
            ]
          },
          "metadata": {
            "tags": []
          }
        }
      ]
    },
    {
      "cell_type": "code",
      "metadata": {
        "id": "juGqwe1Uw3cb",
        "colab_type": "code",
        "colab": {}
      },
      "source": [
        "tf.random.set_random_seed(42)\n",
        "np.random.seed(42)\n",
        "# Loading the dataset\n",
        "wineData = load_wine()\n",
        "# Load the attributes and target in X and y\n",
        "X = wineData.data\n",
        "y = wineData.target"
      ],
      "execution_count": 0,
      "outputs": []
    },
    {
      "cell_type": "code",
      "metadata": {
        "id": "XJ2RPmpWw50m",
        "colab_type": "code",
        "colab": {}
      },
      "source": [
        "from sklearn.model_selection import train_test_split\n",
        "X_train, X_test, y_train, y_test = train_test_split(X, y, test_size=0.2,\n",
        "stratify=y, random_state=42)"
      ],
      "execution_count": 0,
      "outputs": []
    },
    {
      "cell_type": "code",
      "metadata": {
        "id": "KL_vmMQjw8o3",
        "colab_type": "code",
        "colab": {}
      },
      "source": [
        "from sklearn.preprocessing import StandardScaler\n",
        "sc = StandardScaler()\n",
        "# Training the feature scaling parameters\n",
        "sc.fit(X_train)\n",
        "# Applying transformations to both training and testing set\n",
        "X_train_std = sc.transform(X_train)\n",
        "X_test_std = sc.transform(X_test)"
      ],
      "execution_count": 0,
      "outputs": []
    },
    {
      "cell_type": "code",
      "metadata": {
        "id": "KP-bKsRsxDQe",
        "colab_type": "code",
        "colab": {
          "base_uri": "https://localhost:8080/",
          "height": 87
        },
        "outputId": "25019c74-cf37-4503-9f2b-1fb0c4c2c596"
      },
      "source": [
        "model_DNN = keras.models.Sequential()\n",
        "# Hidden layer definitions\n",
        "model_DNN.add(keras.layers.Dense(units=15, activation='relu', input_shape=\n",
        "X_train.shape[1:]))"
      ],
      "execution_count": 6,
      "outputs": [
        {
          "output_type": "stream",
          "text": [
            "WARNING:tensorflow:From /usr/local/lib/python3.6/dist-packages/tensorflow_core/python/ops/resource_variable_ops.py:1630: calling BaseResourceVariable.__init__ (from tensorflow.python.ops.resource_variable_ops) with constraint is deprecated and will be removed in a future version.\n",
            "Instructions for updating:\n",
            "If using Keras pass *_constraint arguments to layers.\n"
          ],
          "name": "stdout"
        }
      ]
    },
    {
      "cell_type": "code",
      "metadata": {
        "id": "dxgvfM8LxF_-",
        "colab_type": "code",
        "colab": {
          "base_uri": "https://localhost:8080/",
          "height": 353
        },
        "outputId": "93ce8b4f-89fa-4612-b698-9fb11736af70"
      },
      "source": [
        "model_DNN.add(keras.layers.BatchNormalization())\n",
        "model_DNN.add(keras.layers.Dense(units=12, activation='relu'))\n",
        "model_DNN.add(keras.layers.Dense(units=8, activation='relu'))\n",
        "model_DNN.add(keras.layers.Dense(units=4, activation='relu'))\n",
        "# Output layer definitions\n",
        "model_DNN.add(keras.layers.Dense(units=3, activation='softmax'))\n",
        "# Print the summary of network architecture\n",
        "model_DNN.summary()"
      ],
      "execution_count": 7,
      "outputs": [
        {
          "output_type": "stream",
          "text": [
            "Model: \"sequential\"\n",
            "_________________________________________________________________\n",
            "Layer (type)                 Output Shape              Param #   \n",
            "=================================================================\n",
            "dense (Dense)                (None, 15)                210       \n",
            "_________________________________________________________________\n",
            "batch_normalization (BatchNo (None, 15)                60        \n",
            "_________________________________________________________________\n",
            "dense_1 (Dense)              (None, 12)                192       \n",
            "_________________________________________________________________\n",
            "dense_2 (Dense)              (None, 8)                 104       \n",
            "_________________________________________________________________\n",
            "dense_3 (Dense)              (None, 4)                 36        \n",
            "_________________________________________________________________\n",
            "dense_4 (Dense)              (None, 3)                 15        \n",
            "=================================================================\n",
            "Total params: 617\n",
            "Trainable params: 587\n",
            "Non-trainable params: 30\n",
            "_________________________________________________________________\n"
          ],
          "name": "stdout"
        }
      ]
    },
    {
      "cell_type": "code",
      "metadata": {
        "id": "unQQ3e4vxIKz",
        "colab_type": "code",
        "colab": {}
      },
      "source": [
        "model_DNN.compile(loss='sparse_categorical_crossentropy',\n",
        "optimizer='adam', metrics=['accuracy'])\n",
        "cb_early_stopping = keras.callbacks.EarlyStopping(monitor='val_loss',patience=10, restore_best_weights=True)"
      ],
      "execution_count": 0,
      "outputs": []
    },
    {
      "cell_type": "code",
      "metadata": {
        "id": "aOXQg7KXxNoI",
        "colab_type": "code",
        "colab": {}
      },
      "source": [
        "cb_model_checkpoint =keras.callbacks.ModelCheckpoint(\"bestModel_WineData.h5\",save_best_only=True)"
      ],
      "execution_count": 0,
      "outputs": []
    },
    {
      "cell_type": "code",
      "metadata": {
        "id": "_tG6J1ORxSpX",
        "colab_type": "code",
        "colab": {
          "base_uri": "https://localhost:8080/",
          "height": 1000
        },
        "outputId": "9eda6f21-7b18-4970-8144-137236953895"
      },
      "source": [
        "model_DNN.fit(x=X_train_std, y=y_train, validation_split=0.1,\n",
        "epochs=500, batch_size=16, callbacks=[cb_early_stopping,\n",
        "cb_model_checkpoint])"
      ],
      "execution_count": 12,
      "outputs": [
        {
          "output_type": "stream",
          "text": [
            "Train on 127 samples, validate on 15 samples\n",
            "Epoch 1/500\n",
            "127/127 [==============================] - 1s 4ms/sample - loss: 1.0069 - acc: 0.5354 - val_loss: 1.0319 - val_acc: 0.4667\n",
            "Epoch 2/500\n",
            "127/127 [==============================] - 0s 461us/sample - loss: 0.9595 - acc: 0.5906 - val_loss: 1.0029 - val_acc: 0.5333\n",
            "Epoch 3/500\n",
            "127/127 [==============================] - 0s 424us/sample - loss: 0.9296 - acc: 0.6693 - val_loss: 0.9728 - val_acc: 0.8000\n",
            "Epoch 4/500\n",
            "127/127 [==============================] - 0s 390us/sample - loss: 0.8970 - acc: 0.7559 - val_loss: 0.9334 - val_acc: 0.8667\n",
            "Epoch 5/500\n",
            "127/127 [==============================] - 0s 394us/sample - loss: 0.8370 - acc: 0.8425 - val_loss: 0.8866 - val_acc: 0.8667\n",
            "Epoch 6/500\n",
            "127/127 [==============================] - 0s 428us/sample - loss: 0.7899 - acc: 0.8740 - val_loss: 0.8335 - val_acc: 0.8667\n",
            "Epoch 7/500\n",
            "127/127 [==============================] - 0s 402us/sample - loss: 0.7430 - acc: 0.8740 - val_loss: 0.7800 - val_acc: 0.8667\n",
            "Epoch 8/500\n",
            "127/127 [==============================] - 0s 430us/sample - loss: 0.7017 - acc: 0.8898 - val_loss: 0.7245 - val_acc: 0.8667\n",
            "Epoch 9/500\n",
            "127/127 [==============================] - 0s 419us/sample - loss: 0.6267 - acc: 0.9370 - val_loss: 0.6617 - val_acc: 0.8667\n",
            "Epoch 10/500\n",
            "127/127 [==============================] - 0s 457us/sample - loss: 0.6053 - acc: 0.8898 - val_loss: 0.6024 - val_acc: 0.8667\n",
            "Epoch 11/500\n",
            "127/127 [==============================] - 0s 435us/sample - loss: 0.5581 - acc: 0.8898 - val_loss: 0.5485 - val_acc: 0.8667\n",
            "Epoch 12/500\n",
            "127/127 [==============================] - 0s 437us/sample - loss: 0.4750 - acc: 0.9213 - val_loss: 0.4974 - val_acc: 0.8667\n",
            "Epoch 13/500\n",
            "127/127 [==============================] - 0s 422us/sample - loss: 0.4563 - acc: 0.9213 - val_loss: 0.4476 - val_acc: 0.8667\n",
            "Epoch 14/500\n",
            "127/127 [==============================] - 0s 445us/sample - loss: 0.4010 - acc: 0.9370 - val_loss: 0.4019 - val_acc: 0.9333\n",
            "Epoch 15/500\n",
            "127/127 [==============================] - 0s 408us/sample - loss: 0.3490 - acc: 0.9606 - val_loss: 0.3597 - val_acc: 0.9333\n",
            "Epoch 16/500\n",
            "127/127 [==============================] - 0s 399us/sample - loss: 0.3271 - acc: 0.9449 - val_loss: 0.3201 - val_acc: 0.9333\n",
            "Epoch 17/500\n",
            "127/127 [==============================] - 0s 391us/sample - loss: 0.2764 - acc: 0.9685 - val_loss: 0.2875 - val_acc: 0.9333\n",
            "Epoch 18/500\n",
            "127/127 [==============================] - 0s 392us/sample - loss: 0.2576 - acc: 0.9606 - val_loss: 0.2543 - val_acc: 1.0000\n",
            "Epoch 19/500\n",
            "127/127 [==============================] - 0s 411us/sample - loss: 0.2527 - acc: 0.9528 - val_loss: 0.2269 - val_acc: 1.0000\n",
            "Epoch 20/500\n",
            "127/127 [==============================] - 0s 426us/sample - loss: 0.2017 - acc: 0.9843 - val_loss: 0.2092 - val_acc: 1.0000\n",
            "Epoch 21/500\n",
            "127/127 [==============================] - 0s 413us/sample - loss: 0.1853 - acc: 0.9685 - val_loss: 0.1923 - val_acc: 1.0000\n",
            "Epoch 22/500\n",
            "127/127 [==============================] - 0s 416us/sample - loss: 0.1686 - acc: 0.9764 - val_loss: 0.1784 - val_acc: 1.0000\n",
            "Epoch 23/500\n",
            "127/127 [==============================] - 0s 424us/sample - loss: 0.1475 - acc: 0.9606 - val_loss: 0.1532 - val_acc: 1.0000\n",
            "Epoch 24/500\n",
            "127/127 [==============================] - 0s 451us/sample - loss: 0.1373 - acc: 0.9764 - val_loss: 0.1456 - val_acc: 1.0000\n",
            "Epoch 25/500\n",
            "127/127 [==============================] - 0s 409us/sample - loss: 0.1164 - acc: 0.9843 - val_loss: 0.1309 - val_acc: 1.0000\n",
            "Epoch 26/500\n",
            "127/127 [==============================] - 0s 390us/sample - loss: 0.0998 - acc: 0.9843 - val_loss: 0.1162 - val_acc: 1.0000\n",
            "Epoch 27/500\n",
            "127/127 [==============================] - 0s 428us/sample - loss: 0.0927 - acc: 0.9921 - val_loss: 0.1005 - val_acc: 1.0000\n",
            "Epoch 28/500\n",
            "127/127 [==============================] - 0s 408us/sample - loss: 0.1088 - acc: 0.9764 - val_loss: 0.0919 - val_acc: 1.0000\n",
            "Epoch 29/500\n",
            "127/127 [==============================] - 0s 387us/sample - loss: 0.1086 - acc: 0.9843 - val_loss: 0.0886 - val_acc: 1.0000\n",
            "Epoch 30/500\n",
            "127/127 [==============================] - 0s 396us/sample - loss: 0.0623 - acc: 1.0000 - val_loss: 0.0868 - val_acc: 1.0000\n",
            "Epoch 31/500\n",
            "127/127 [==============================] - 0s 431us/sample - loss: 0.0706 - acc: 1.0000 - val_loss: 0.0829 - val_acc: 1.0000\n",
            "Epoch 32/500\n",
            "127/127 [==============================] - 0s 401us/sample - loss: 0.0839 - acc: 0.9764 - val_loss: 0.0788 - val_acc: 1.0000\n",
            "Epoch 33/500\n",
            "127/127 [==============================] - 0s 368us/sample - loss: 0.0651 - acc: 1.0000 - val_loss: 0.0718 - val_acc: 1.0000\n",
            "Epoch 34/500\n",
            "127/127 [==============================] - 0s 406us/sample - loss: 0.1422 - acc: 0.9685 - val_loss: 0.0718 - val_acc: 1.0000\n",
            "Epoch 35/500\n",
            "127/127 [==============================] - 0s 378us/sample - loss: 0.0564 - acc: 1.0000 - val_loss: 0.0607 - val_acc: 1.0000\n",
            "Epoch 36/500\n",
            "127/127 [==============================] - 0s 379us/sample - loss: 0.0939 - acc: 0.9843 - val_loss: 0.0556 - val_acc: 1.0000\n",
            "Epoch 37/500\n",
            "127/127 [==============================] - 0s 406us/sample - loss: 0.0621 - acc: 0.9921 - val_loss: 0.0507 - val_acc: 1.0000\n",
            "Epoch 38/500\n",
            "127/127 [==============================] - 0s 391us/sample - loss: 0.0614 - acc: 0.9921 - val_loss: 0.0474 - val_acc: 1.0000\n",
            "Epoch 39/500\n",
            "127/127 [==============================] - 0s 397us/sample - loss: 0.0352 - acc: 1.0000 - val_loss: 0.0450 - val_acc: 1.0000\n",
            "Epoch 40/500\n",
            "127/127 [==============================] - 0s 380us/sample - loss: 0.0463 - acc: 1.0000 - val_loss: 0.0425 - val_acc: 1.0000\n",
            "Epoch 41/500\n",
            "127/127 [==============================] - 0s 384us/sample - loss: 0.0332 - acc: 1.0000 - val_loss: 0.0403 - val_acc: 1.0000\n",
            "Epoch 42/500\n",
            "127/127 [==============================] - 0s 151us/sample - loss: 0.0834 - acc: 0.9606 - val_loss: 0.0446 - val_acc: 1.0000\n",
            "Epoch 43/500\n",
            "127/127 [==============================] - 0s 184us/sample - loss: 0.0882 - acc: 0.9764 - val_loss: 0.0486 - val_acc: 1.0000\n",
            "Epoch 44/500\n",
            "127/127 [==============================] - 0s 146us/sample - loss: 0.0399 - acc: 0.9843 - val_loss: 0.0439 - val_acc: 1.0000\n",
            "Epoch 45/500\n",
            "127/127 [==============================] - 0s 161us/sample - loss: 0.0309 - acc: 1.0000 - val_loss: 0.0416 - val_acc: 1.0000\n",
            "Epoch 46/500\n",
            "127/127 [==============================] - 0s 366us/sample - loss: 0.0310 - acc: 1.0000 - val_loss: 0.0397 - val_acc: 1.0000\n",
            "Epoch 47/500\n",
            "127/127 [==============================] - 0s 377us/sample - loss: 0.0276 - acc: 1.0000 - val_loss: 0.0377 - val_acc: 1.0000\n",
            "Epoch 48/500\n",
            "127/127 [==============================] - 0s 384us/sample - loss: 0.0202 - acc: 1.0000 - val_loss: 0.0337 - val_acc: 1.0000\n",
            "Epoch 49/500\n",
            "127/127 [==============================] - 0s 375us/sample - loss: 0.0383 - acc: 0.9921 - val_loss: 0.0305 - val_acc: 1.0000\n",
            "Epoch 50/500\n",
            "127/127 [==============================] - 0s 380us/sample - loss: 0.0247 - acc: 0.9921 - val_loss: 0.0284 - val_acc: 1.0000\n",
            "Epoch 51/500\n",
            "127/127 [==============================] - 0s 159us/sample - loss: 0.0473 - acc: 0.9764 - val_loss: 0.0286 - val_acc: 1.0000\n",
            "Epoch 52/500\n",
            "127/127 [==============================] - 0s 426us/sample - loss: 0.0340 - acc: 0.9921 - val_loss: 0.0244 - val_acc: 1.0000\n",
            "Epoch 53/500\n",
            "127/127 [==============================] - 0s 371us/sample - loss: 0.0451 - acc: 0.9843 - val_loss: 0.0211 - val_acc: 1.0000\n",
            "Epoch 54/500\n",
            "127/127 [==============================] - 0s 402us/sample - loss: 0.0207 - acc: 1.0000 - val_loss: 0.0181 - val_acc: 1.0000\n",
            "Epoch 55/500\n",
            "127/127 [==============================] - 0s 422us/sample - loss: 0.0220 - acc: 1.0000 - val_loss: 0.0168 - val_acc: 1.0000\n",
            "Epoch 56/500\n",
            "127/127 [==============================] - 0s 417us/sample - loss: 0.0215 - acc: 1.0000 - val_loss: 0.0160 - val_acc: 1.0000\n",
            "Epoch 57/500\n",
            "127/127 [==============================] - 0s 397us/sample - loss: 0.0212 - acc: 0.9921 - val_loss: 0.0155 - val_acc: 1.0000\n",
            "Epoch 58/500\n",
            "127/127 [==============================] - 0s 158us/sample - loss: 0.0116 - acc: 1.0000 - val_loss: 0.0156 - val_acc: 1.0000\n",
            "Epoch 59/500\n",
            "127/127 [==============================] - 0s 380us/sample - loss: 0.0182 - acc: 1.0000 - val_loss: 0.0141 - val_acc: 1.0000\n",
            "Epoch 60/500\n",
            "127/127 [==============================] - 0s 501us/sample - loss: 0.0371 - acc: 0.9921 - val_loss: 0.0133 - val_acc: 1.0000\n",
            "Epoch 61/500\n",
            "127/127 [==============================] - 0s 182us/sample - loss: 0.0497 - acc: 0.9921 - val_loss: 0.0161 - val_acc: 1.0000\n",
            "Epoch 62/500\n",
            "127/127 [==============================] - 0s 165us/sample - loss: 0.0113 - acc: 1.0000 - val_loss: 0.0197 - val_acc: 1.0000\n",
            "Epoch 63/500\n",
            "127/127 [==============================] - 0s 146us/sample - loss: 0.0186 - acc: 1.0000 - val_loss: 0.0222 - val_acc: 1.0000\n",
            "Epoch 64/500\n",
            "127/127 [==============================] - 0s 151us/sample - loss: 0.0145 - acc: 1.0000 - val_loss: 0.0286 - val_acc: 1.0000\n",
            "Epoch 65/500\n",
            "127/127 [==============================] - 0s 139us/sample - loss: 0.0843 - acc: 0.9843 - val_loss: 0.0285 - val_acc: 1.0000\n",
            "Epoch 66/500\n",
            "127/127 [==============================] - 0s 160us/sample - loss: 0.0137 - acc: 1.0000 - val_loss: 0.0209 - val_acc: 1.0000\n",
            "Epoch 67/500\n",
            "127/127 [==============================] - 0s 147us/sample - loss: 0.0160 - acc: 1.0000 - val_loss: 0.0160 - val_acc: 1.0000\n",
            "Epoch 68/500\n",
            "127/127 [==============================] - 0s 377us/sample - loss: 0.0203 - acc: 0.9921 - val_loss: 0.0128 - val_acc: 1.0000\n",
            "Epoch 69/500\n",
            "127/127 [==============================] - 0s 367us/sample - loss: 0.0174 - acc: 1.0000 - val_loss: 0.0105 - val_acc: 1.0000\n",
            "Epoch 70/500\n",
            "127/127 [==============================] - 0s 372us/sample - loss: 0.0167 - acc: 1.0000 - val_loss: 0.0098 - val_acc: 1.0000\n",
            "Epoch 71/500\n",
            "127/127 [==============================] - 0s 185us/sample - loss: 0.0096 - acc: 1.0000 - val_loss: 0.0099 - val_acc: 1.0000\n",
            "Epoch 72/500\n",
            "127/127 [==============================] - 0s 417us/sample - loss: 0.0193 - acc: 0.9921 - val_loss: 0.0097 - val_acc: 1.0000\n",
            "Epoch 73/500\n",
            "127/127 [==============================] - 0s 168us/sample - loss: 0.0062 - acc: 1.0000 - val_loss: 0.0102 - val_acc: 1.0000\n",
            "Epoch 74/500\n",
            "127/127 [==============================] - 0s 168us/sample - loss: 0.0138 - acc: 1.0000 - val_loss: 0.0102 - val_acc: 1.0000\n",
            "Epoch 75/500\n",
            "127/127 [==============================] - 0s 404us/sample - loss: 0.0328 - acc: 1.0000 - val_loss: 0.0087 - val_acc: 1.0000\n",
            "Epoch 76/500\n",
            "127/127 [==============================] - 0s 413us/sample - loss: 0.0084 - acc: 1.0000 - val_loss: 0.0076 - val_acc: 1.0000\n",
            "Epoch 77/500\n",
            "127/127 [==============================] - 0s 178us/sample - loss: 0.0588 - acc: 0.9843 - val_loss: 0.0076 - val_acc: 1.0000\n",
            "Epoch 78/500\n",
            "127/127 [==============================] - 0s 176us/sample - loss: 0.0182 - acc: 0.9921 - val_loss: 0.0112 - val_acc: 1.0000\n",
            "Epoch 79/500\n",
            "127/127 [==============================] - 0s 160us/sample - loss: 0.0068 - acc: 1.0000 - val_loss: 0.0136 - val_acc: 1.0000\n",
            "Epoch 80/500\n",
            "127/127 [==============================] - 0s 150us/sample - loss: 0.0078 - acc: 1.0000 - val_loss: 0.0143 - val_acc: 1.0000\n",
            "Epoch 81/500\n",
            "127/127 [==============================] - 0s 194us/sample - loss: 0.0251 - acc: 0.9921 - val_loss: 0.0143 - val_acc: 1.0000\n",
            "Epoch 82/500\n",
            "127/127 [==============================] - 0s 166us/sample - loss: 0.0123 - acc: 1.0000 - val_loss: 0.0139 - val_acc: 1.0000\n",
            "Epoch 83/500\n",
            "127/127 [==============================] - 0s 145us/sample - loss: 0.0043 - acc: 1.0000 - val_loss: 0.0133 - val_acc: 1.0000\n",
            "Epoch 84/500\n",
            "127/127 [==============================] - 0s 151us/sample - loss: 0.0077 - acc: 1.0000 - val_loss: 0.0118 - val_acc: 1.0000\n",
            "Epoch 85/500\n",
            "127/127 [==============================] - 0s 137us/sample - loss: 0.0043 - acc: 1.0000 - val_loss: 0.0108 - val_acc: 1.0000\n",
            "Epoch 86/500\n",
            "127/127 [==============================] - 0s 687us/sample - loss: 0.0048 - acc: 1.0000 - val_loss: 0.0102 - val_acc: 1.0000\n"
          ],
          "name": "stdout"
        },
        {
          "output_type": "execute_result",
          "data": {
            "text/plain": [
              "<tensorflow.python.keras.callbacks.History at 0x7fb22d822470>"
            ]
          },
          "metadata": {
            "tags": []
          },
          "execution_count": 12
        }
      ]
    },
    {
      "cell_type": "code",
      "metadata": {
        "id": "oeriT9pcxYkj",
        "colab_type": "code",
        "colab": {
          "base_uri": "https://localhost:8080/",
          "height": 205
        },
        "outputId": "941a975d-8bd7-4228-9518-b2f7af26bc41"
      },
      "source": [
        "best_model = keras.models.load_model(\"bestModel_WineData.h5\")\n",
        "test_loss, test_accuracy = best_model.evaluate(x=X_test_std, y=y_test)"
      ],
      "execution_count": 13,
      "outputs": [
        {
          "output_type": "stream",
          "text": [
            "WARNING:tensorflow:From /usr/local/lib/python3.6/dist-packages/tensorflow_core/python/ops/init_ops.py:97: calling GlorotUniform.__init__ (from tensorflow.python.ops.init_ops) with dtype is deprecated and will be removed in a future version.\n",
            "Instructions for updating:\n",
            "Call initializer instance with the dtype argument instead of passing it to the constructor\n",
            "WARNING:tensorflow:From /usr/local/lib/python3.6/dist-packages/tensorflow_core/python/ops/init_ops.py:97: calling Zeros.__init__ (from tensorflow.python.ops.init_ops) with dtype is deprecated and will be removed in a future version.\n",
            "Instructions for updating:\n",
            "Call initializer instance with the dtype argument instead of passing it to the constructor\n",
            "WARNING:tensorflow:From /usr/local/lib/python3.6/dist-packages/tensorflow_core/python/ops/init_ops.py:97: calling Ones.__init__ (from tensorflow.python.ops.init_ops) with dtype is deprecated and will be removed in a future version.\n",
            "Instructions for updating:\n",
            "Call initializer instance with the dtype argument instead of passing it to the constructor\n",
            "36/36 [==============================] - 0s 1ms/sample - loss: 0.0592 - acc: 0.9722\n"
          ],
          "name": "stdout"
        }
      ]
    },
    {
      "cell_type": "code",
      "metadata": {
        "id": "1BqbMNgDxe0s",
        "colab_type": "code",
        "colab": {
          "base_uri": "https://localhost:8080/",
          "height": 34
        },
        "outputId": "510a3ba9-f381-4bb2-e186-7584eb5de935"
      },
      "source": [
        "print(test_loss, test_accuracy)"
      ],
      "execution_count": 14,
      "outputs": [
        {
          "output_type": "stream",
          "text": [
            "0.059167482337215915 0.9722222\n"
          ],
          "name": "stdout"
        }
      ]
    },
    {
      "cell_type": "code",
      "metadata": {
        "id": "dXKn9uNBxhUw",
        "colab_type": "code",
        "colab": {}
      },
      "source": [
        ""
      ],
      "execution_count": 0,
      "outputs": []
    }
  ]
}