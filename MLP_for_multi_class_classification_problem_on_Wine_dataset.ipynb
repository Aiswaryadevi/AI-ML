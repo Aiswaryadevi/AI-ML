{
  "nbformat": 4,
  "nbformat_minor": 0,
  "metadata": {
    "colab": {
      "name": " MLP for multi-class classification problem on Wine dataset.ipynb",
      "provenance": [],
      "authorship_tag": "ABX9TyNVYnVfqoTa+OhdwEoy1qQQ",
      "include_colab_link": true
    },
    "kernelspec": {
      "name": "python3",
      "display_name": "Python 3"
    }
  },
  "cells": [
    {
      "cell_type": "markdown",
      "metadata": {
        "id": "view-in-github",
        "colab_type": "text"
      },
      "source": [
        "<a href=\"https://colab.research.google.com/github/Aiswaryadevi/AI-deeplearning/blob/master/MLP_for_multi_class_classification_problem_on_Wine_dataset.ipynb\" target=\"_parent\"><img src=\"https://colab.research.google.com/assets/colab-badge.svg\" alt=\"Open In Colab\"/></a>"
      ]
    },
    {
      "cell_type": "code",
      "metadata": {
        "id": "GBOvUbsp5iUC",
        "colab_type": "code",
        "colab": {}
      },
      "source": [
        "import numpy as np\n",
        "import pandas as pd\n",
        "import matplotlib.pyplot as plt\n",
        "# Load the dataset from sklearn\n",
        "from sklearn.datasets import load_wine"
      ],
      "execution_count": 0,
      "outputs": []
    },
    {
      "cell_type": "code",
      "metadata": {
        "id": "2Ovkp2B_5pey",
        "colab_type": "code",
        "colab": {
          "base_uri": "https://localhost:8080/",
          "height": 63
        },
        "outputId": "af628d3a-9175-4c1c-9d51-8da0306411e3"
      },
      "source": [
        "# Importing both TensorFlow and its high level API - Keras.\n",
        "import tensorflow as tf\n",
        "from tensorflow import keras\n"
      ],
      "execution_count": 2,
      "outputs": [
        {
          "output_type": "display_data",
          "data": {
            "text/html": [
              "<p style=\"color: red;\">\n",
              "The default version of TensorFlow in Colab will soon switch to TensorFlow 2.x.<br>\n",
              "We recommend you <a href=\"https://www.tensorflow.org/guide/migrate\" target=\"_blank\">upgrade</a> now \n",
              "or ensure your notebook will continue to use TensorFlow 1.x via the <code>%tensorflow_version 1.x</code> magic:\n",
              "<a href=\"https://colab.research.google.com/notebooks/tensorflow_version.ipynb\" target=\"_blank\">more info</a>.</p>\n"
            ],
            "text/plain": [
              "<IPython.core.display.HTML object>"
            ]
          },
          "metadata": {
            "tags": []
          }
        }
      ]
    },
    {
      "cell_type": "code",
      "metadata": {
        "id": "a8Jgpd9x5vxL",
        "colab_type": "code",
        "colab": {}
      },
      "source": [
        " #Setting the random seeds for repeatability\n",
        "tf.set_random_seed(42)\n",
        "np.random.seed(42)\n"
      ],
      "execution_count": 0,
      "outputs": []
    },
    {
      "cell_type": "code",
      "metadata": {
        "id": "hWoZK2if5x-s",
        "colab_type": "code",
        "colab": {}
      },
      "source": [
        "# Loading the dataset\n",
        "wineData = load_wine()\n",
        "# Load the attributes and target in X and y\n",
        "X = wineData.data\n",
        "y = wineData.target"
      ],
      "execution_count": 0,
      "outputs": []
    },
    {
      "cell_type": "code",
      "metadata": {
        "id": "kw-M63OD5z_Q",
        "colab_type": "code",
        "colab": {}
      },
      "source": [
        "# Split the data into 80% training and 20% testing\n",
        "from sklearn.model_selection import train_test_split\n",
        "X_train, X_test, y_train, y_test = train_test_split(X, y, test_size=0.2,\n",
        " stratify=y, random_state=42)\n"
      ],
      "execution_count": 0,
      "outputs": []
    },
    {
      "cell_type": "code",
      "metadata": {
        "id": "kojT_g5u6E8V",
        "colab_type": "code",
        "colab": {}
      },
      "source": [
        "# Feature scaling using Standardization\n",
        "from sklearn.preprocessing import StandardScaler\n",
        "sc = StandardScaler()\n"
      ],
      "execution_count": 0,
      "outputs": []
    },
    {
      "cell_type": "code",
      "metadata": {
        "id": "nw8NS2k56G41",
        "colab_type": "code",
        "colab": {}
      },
      "source": [
        "# Training the feature scaling parameters\n",
        "sc.fit(X_train)\n",
        "# Applying transformations to both training and testing set\n",
        "X_train_std = sc.transform(X_train)\n",
        "X_test_std = sc.transform(X_test)\n"
      ],
      "execution_count": 0,
      "outputs": []
    },
    {
      "cell_type": "code",
      "metadata": {
        "id": "0pc-ube_6InW",
        "colab_type": "code",
        "colab": {}
      },
      "source": [
        "# Sequential() does linear stacking of layers\n",
        "model_MLP = keras.models.Sequential()\n"
      ],
      "execution_count": 0,
      "outputs": []
    },
    {
      "cell_type": "code",
      "metadata": {
        "id": "9rXJWvYM6KZI",
        "colab_type": "code",
        "colab": {
          "base_uri": "https://localhost:8080/",
          "height": 88
        },
        "outputId": "685654aa-4553-4dcb-ad03-5d9c0110d024"
      },
      "source": [
        "# Hidden layer definitions\n",
        "model_MLP.add(keras.layers.Dense(units=5, activation='relu',\n",
        " input_shape= X_train.shape[1:]))\n"
      ],
      "execution_count": 11,
      "outputs": [
        {
          "output_type": "stream",
          "text": [
            "WARNING:tensorflow:From /usr/local/lib/python3.6/dist-packages/tensorflow_core/python/ops/resource_variable_ops.py:1630: calling BaseResourceVariable.__init__ (from tensorflow.python.ops.resource_variable_ops) with constraint is deprecated and will be removed in a future version.\n",
            "Instructions for updating:\n",
            "If using Keras pass *_constraint arguments to layers.\n"
          ],
          "name": "stdout"
        }
      ]
    },
    {
      "cell_type": "code",
      "metadata": {
        "id": "kJprB2AH6MqE",
        "colab_type": "code",
        "colab": {
          "base_uri": "https://localhost:8080/",
          "height": 221
        },
        "outputId": "ff978a62-26c4-429e-e419-1acec44347d3"
      },
      "source": [
        "# Output layer definitions\n",
        "model_MLP.add(keras.layers.Dense(units=3, activation='softmax'))\n",
        "# Print the summary of network architecture\n",
        "model_MLP.summary()"
      ],
      "execution_count": 12,
      "outputs": [
        {
          "output_type": "stream",
          "text": [
            "Model: \"sequential\"\n",
            "_________________________________________________________________\n",
            "Layer (type)                 Output Shape              Param #   \n",
            "=================================================================\n",
            "dense (Dense)                (None, 5)                 70        \n",
            "_________________________________________________________________\n",
            "dense_1 (Dense)              (None, 3)                 18        \n",
            "=================================================================\n",
            "Total params: 88\n",
            "Trainable params: 88\n",
            "Non-trainable params: 0\n",
            "_________________________________________________________________\n"
          ],
          "name": "stdout"
        }
      ]
    },
    {
      "cell_type": "code",
      "metadata": {
        "id": "9pvy9UPy6Ogw",
        "colab_type": "code",
        "colab": {}
      },
      "source": [
        "model_MLP.compile(loss='sparse_categorical_crossentropy',\n",
        " optimizer='adam', metrics=['accuracy'])"
      ],
      "execution_count": 0,
      "outputs": []
    },
    {
      "cell_type": "code",
      "metadata": {
        "id": "KTYssY4K6Uck",
        "colab_type": "code",
        "colab": {
          "base_uri": "https://localhost:8080/",
          "height": 1000
        },
        "outputId": "367842e4-ac2d-4000-bb6d-a40cbd188302"
      },
      "source": [
        "model_MLP.fit(x=X_train_std, y=y_train, validation_split=0.1, epochs=50,\n",
        "batch_size=16)"
      ],
      "execution_count": 14,
      "outputs": [
        {
          "output_type": "stream",
          "text": [
            "Train on 127 samples, validate on 15 samples\n",
            "Epoch 1/50\n",
            "127/127 [==============================] - 0s 2ms/sample - loss: 1.3160 - acc: 0.3465 - val_loss: 1.3367 - val_acc: 0.0667\n",
            "Epoch 2/50\n",
            "127/127 [==============================] - 0s 109us/sample - loss: 1.2678 - acc: 0.3780 - val_loss: 1.2835 - val_acc: 0.0667\n",
            "Epoch 3/50\n",
            "127/127 [==============================] - 0s 107us/sample - loss: 1.2202 - acc: 0.3937 - val_loss: 1.2360 - val_acc: 0.0667\n",
            "Epoch 4/50\n",
            "127/127 [==============================] - 0s 117us/sample - loss: 1.1764 - acc: 0.4488 - val_loss: 1.1911 - val_acc: 0.0667\n",
            "Epoch 5/50\n",
            "127/127 [==============================] - 0s 112us/sample - loss: 1.1339 - acc: 0.4882 - val_loss: 1.1480 - val_acc: 0.2000\n",
            "Epoch 6/50\n",
            "127/127 [==============================] - 0s 104us/sample - loss: 1.0946 - acc: 0.5039 - val_loss: 1.1061 - val_acc: 0.2000\n",
            "Epoch 7/50\n",
            "127/127 [==============================] - 0s 108us/sample - loss: 1.0564 - acc: 0.5118 - val_loss: 1.0672 - val_acc: 0.2000\n",
            "Epoch 8/50\n",
            "127/127 [==============================] - 0s 102us/sample - loss: 1.0213 - acc: 0.5433 - val_loss: 1.0307 - val_acc: 0.3333\n",
            "Epoch 9/50\n",
            "127/127 [==============================] - 0s 108us/sample - loss: 0.9871 - acc: 0.5591 - val_loss: 0.9966 - val_acc: 0.4000\n",
            "Epoch 10/50\n",
            "127/127 [==============================] - 0s 112us/sample - loss: 0.9548 - acc: 0.5669 - val_loss: 0.9656 - val_acc: 0.4000\n",
            "Epoch 11/50\n",
            "127/127 [==============================] - 0s 112us/sample - loss: 0.9239 - acc: 0.6063 - val_loss: 0.9371 - val_acc: 0.4667\n",
            "Epoch 12/50\n",
            "127/127 [==============================] - 0s 127us/sample - loss: 0.8980 - acc: 0.6063 - val_loss: 0.9109 - val_acc: 0.4667\n",
            "Epoch 13/50\n",
            "127/127 [==============================] - 0s 112us/sample - loss: 0.8710 - acc: 0.6220 - val_loss: 0.8873 - val_acc: 0.4667\n",
            "Epoch 14/50\n",
            "127/127 [==============================] - 0s 111us/sample - loss: 0.8472 - acc: 0.6378 - val_loss: 0.8653 - val_acc: 0.4667\n",
            "Epoch 15/50\n",
            "127/127 [==============================] - 0s 112us/sample - loss: 0.8244 - acc: 0.6614 - val_loss: 0.8456 - val_acc: 0.5333\n",
            "Epoch 16/50\n",
            "127/127 [==============================] - 0s 107us/sample - loss: 0.8037 - acc: 0.6614 - val_loss: 0.8268 - val_acc: 0.5333\n",
            "Epoch 17/50\n",
            "127/127 [==============================] - 0s 116us/sample - loss: 0.7822 - acc: 0.6614 - val_loss: 0.8101 - val_acc: 0.5333\n",
            "Epoch 18/50\n",
            "127/127 [==============================] - 0s 111us/sample - loss: 0.7628 - acc: 0.6693 - val_loss: 0.7950 - val_acc: 0.5333\n",
            "Epoch 19/50\n",
            "127/127 [==============================] - 0s 114us/sample - loss: 0.7444 - acc: 0.6772 - val_loss: 0.7810 - val_acc: 0.5333\n",
            "Epoch 20/50\n",
            "127/127 [==============================] - 0s 122us/sample - loss: 0.7263 - acc: 0.6929 - val_loss: 0.7678 - val_acc: 0.5333\n",
            "Epoch 21/50\n",
            "127/127 [==============================] - 0s 114us/sample - loss: 0.7091 - acc: 0.7008 - val_loss: 0.7553 - val_acc: 0.5333\n",
            "Epoch 22/50\n",
            "127/127 [==============================] - 0s 104us/sample - loss: 0.6938 - acc: 0.7008 - val_loss: 0.7436 - val_acc: 0.5333\n",
            "Epoch 23/50\n",
            "127/127 [==============================] - 0s 135us/sample - loss: 0.6775 - acc: 0.7008 - val_loss: 0.7333 - val_acc: 0.5333\n",
            "Epoch 24/50\n",
            "127/127 [==============================] - 0s 122us/sample - loss: 0.6627 - acc: 0.7008 - val_loss: 0.7236 - val_acc: 0.5333\n",
            "Epoch 25/50\n",
            "127/127 [==============================] - 0s 103us/sample - loss: 0.6481 - acc: 0.7087 - val_loss: 0.7144 - val_acc: 0.5333\n",
            "Epoch 26/50\n",
            "127/127 [==============================] - 0s 105us/sample - loss: 0.6345 - acc: 0.7165 - val_loss: 0.7059 - val_acc: 0.5333\n",
            "Epoch 27/50\n",
            "127/127 [==============================] - 0s 119us/sample - loss: 0.6214 - acc: 0.7165 - val_loss: 0.6971 - val_acc: 0.5333\n",
            "Epoch 28/50\n",
            "127/127 [==============================] - 0s 125us/sample - loss: 0.6087 - acc: 0.7165 - val_loss: 0.6891 - val_acc: 0.5333\n",
            "Epoch 29/50\n",
            "127/127 [==============================] - 0s 127us/sample - loss: 0.5968 - acc: 0.7165 - val_loss: 0.6812 - val_acc: 0.5333\n",
            "Epoch 30/50\n",
            "127/127 [==============================] - 0s 106us/sample - loss: 0.5851 - acc: 0.7323 - val_loss: 0.6739 - val_acc: 0.5333\n",
            "Epoch 31/50\n",
            "127/127 [==============================] - 0s 125us/sample - loss: 0.5738 - acc: 0.7323 - val_loss: 0.6668 - val_acc: 0.5333\n",
            "Epoch 32/50\n",
            "127/127 [==============================] - 0s 148us/sample - loss: 0.5629 - acc: 0.7323 - val_loss: 0.6603 - val_acc: 0.5333\n",
            "Epoch 33/50\n",
            "127/127 [==============================] - 0s 122us/sample - loss: 0.5529 - acc: 0.7323 - val_loss: 0.6533 - val_acc: 0.5333\n",
            "Epoch 34/50\n",
            "127/127 [==============================] - 0s 108us/sample - loss: 0.5429 - acc: 0.7323 - val_loss: 0.6469 - val_acc: 0.5333\n",
            "Epoch 35/50\n",
            "127/127 [==============================] - 0s 122us/sample - loss: 0.5335 - acc: 0.7323 - val_loss: 0.6408 - val_acc: 0.5333\n",
            "Epoch 36/50\n",
            "127/127 [==============================] - 0s 108us/sample - loss: 0.5240 - acc: 0.7323 - val_loss: 0.6347 - val_acc: 0.5333\n",
            "Epoch 37/50\n",
            "127/127 [==============================] - 0s 130us/sample - loss: 0.5154 - acc: 0.7402 - val_loss: 0.6288 - val_acc: 0.5333\n",
            "Epoch 38/50\n",
            "127/127 [==============================] - 0s 151us/sample - loss: 0.5067 - acc: 0.7480 - val_loss: 0.6232 - val_acc: 0.5333\n",
            "Epoch 39/50\n",
            "127/127 [==============================] - 0s 156us/sample - loss: 0.4984 - acc: 0.7638 - val_loss: 0.6174 - val_acc: 0.5333\n",
            "Epoch 40/50\n",
            "127/127 [==============================] - 0s 124us/sample - loss: 0.4901 - acc: 0.7638 - val_loss: 0.6113 - val_acc: 0.5333\n",
            "Epoch 41/50\n",
            "127/127 [==============================] - 0s 156us/sample - loss: 0.4822 - acc: 0.7638 - val_loss: 0.6056 - val_acc: 0.5333\n",
            "Epoch 42/50\n",
            "127/127 [==============================] - 0s 105us/sample - loss: 0.4747 - acc: 0.7795 - val_loss: 0.5996 - val_acc: 0.5333\n",
            "Epoch 43/50\n",
            "127/127 [==============================] - 0s 124us/sample - loss: 0.4675 - acc: 0.7795 - val_loss: 0.5945 - val_acc: 0.5333\n",
            "Epoch 44/50\n",
            "127/127 [==============================] - 0s 109us/sample - loss: 0.4601 - acc: 0.7795 - val_loss: 0.5887 - val_acc: 0.5333\n",
            "Epoch 45/50\n",
            "127/127 [==============================] - 0s 117us/sample - loss: 0.4529 - acc: 0.7874 - val_loss: 0.5833 - val_acc: 0.5333\n",
            "Epoch 46/50\n",
            "127/127 [==============================] - 0s 116us/sample - loss: 0.4462 - acc: 0.7953 - val_loss: 0.5780 - val_acc: 0.5333\n",
            "Epoch 47/50\n",
            "127/127 [==============================] - 0s 105us/sample - loss: 0.4398 - acc: 0.8031 - val_loss: 0.5725 - val_acc: 0.5333\n",
            "Epoch 48/50\n",
            "127/127 [==============================] - 0s 109us/sample - loss: 0.4331 - acc: 0.8031 - val_loss: 0.5671 - val_acc: 0.5333\n",
            "Epoch 49/50\n",
            "127/127 [==============================] - 0s 131us/sample - loss: 0.4267 - acc: 0.8031 - val_loss: 0.5619 - val_acc: 0.5333\n",
            "Epoch 50/50\n",
            "127/127 [==============================] - 0s 109us/sample - loss: 0.4208 - acc: 0.8110 - val_loss: 0.5567 - val_acc: 0.6000\n"
          ],
          "name": "stdout"
        },
        {
          "output_type": "execute_result",
          "data": {
            "text/plain": [
              "<tensorflow.python.keras.callbacks.History at 0x7f51e61c7208>"
            ]
          },
          "metadata": {
            "tags": []
          },
          "execution_count": 14
        }
      ]
    },
    {
      "cell_type": "code",
      "metadata": {
        "id": "D6P0FCaF6XKi",
        "colab_type": "code",
        "colab": {
          "base_uri": "https://localhost:8080/",
          "height": 34
        },
        "outputId": "bc9e54be-7a62-473e-a68b-8d26bf115eb0"
      },
      "source": [
        "test_loss, test_accuracy = model_MLP.evaluate(x=X_test_std, y=y_test)\n"
      ],
      "execution_count": 15,
      "outputs": [
        {
          "output_type": "stream",
          "text": [
            "36/36 [==============================] - 0s 119us/sample - loss: 0.5300 - acc: 0.7222\n"
          ],
          "name": "stdout"
        }
      ]
    },
    {
      "cell_type": "code",
      "metadata": {
        "id": "PJLHVTZ56aw1",
        "colab_type": "code",
        "colab": {
          "base_uri": "https://localhost:8080/",
          "height": 34
        },
        "outputId": "f994cc0b-b529-4a60-e78a-ea9cecb6844b"
      },
      "source": [
        "\n",
        "print(test_loss, test_accuracy)"
      ],
      "execution_count": 16,
      "outputs": [
        {
          "output_type": "stream",
          "text": [
            "0.5300196276770698 0.7222222\n"
          ],
          "name": "stdout"
        }
      ]
    },
    {
      "cell_type": "code",
      "metadata": {
        "id": "qVYspBvG6fUv",
        "colab_type": "code",
        "colab": {}
      },
      "source": [
        ""
      ],
      "execution_count": 0,
      "outputs": []
    }
  ]
}