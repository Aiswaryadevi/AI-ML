{
  "nbformat": 4,
  "nbformat_minor": 0,
  "metadata": {
    "colab": {
      "name": "DNN for Boston House price with Dropouts.ipynb",
      "provenance": [],
      "authorship_tag": "ABX9TyM9CYGJ6VaB5y5iG75HYEsH",
      "include_colab_link": true
    },
    "kernelspec": {
      "name": "python3",
      "display_name": "Python 3"
    }
  },
  "cells": [
    {
      "cell_type": "markdown",
      "metadata": {
        "id": "view-in-github",
        "colab_type": "text"
      },
      "source": [
        "<a href=\"https://colab.research.google.com/github/Aiswaryadevi/AI-deeplearning/blob/master/DNN_for_Boston_House_price_with_Dropouts.ipynb\" target=\"_parent\"><img src=\"https://colab.research.google.com/assets/colab-badge.svg\" alt=\"Open In Colab\"/></a>"
      ]
    },
    {
      "cell_type": "code",
      "metadata": {
        "id": "l4AdT3cdPIEI",
        "colab_type": "code",
        "colab": {}
      },
      "source": [
        "import numpy as np\n",
        "import pandas as pd\n",
        "import matplotlib.pyplot as plt"
      ],
      "execution_count": 0,
      "outputs": []
    },
    {
      "cell_type": "code",
      "metadata": {
        "id": "3FnG1jPQQ80P",
        "colab_type": "code",
        "colab": {}
      },
      "source": [
        "# Load the dataset from sklearn\n",
        "from sklearn.datasets import load_boston"
      ],
      "execution_count": 0,
      "outputs": []
    },
    {
      "cell_type": "code",
      "metadata": {
        "id": "IrTEr3hFRBTx",
        "colab_type": "code",
        "colab": {}
      },
      "source": [
        "import tensorflow as tf\n",
        "from tensorflow import keras\n"
      ],
      "execution_count": 0,
      "outputs": []
    },
    {
      "cell_type": "code",
      "metadata": {
        "id": "pxrIEcWsRie5",
        "colab_type": "code",
        "colab": {}
      },
      "source": [
        "# Setting the random seeds for repeatability\n",
        "tf.random.set_random_seed(42)\n",
        "np.random.seed(42)"
      ],
      "execution_count": 0,
      "outputs": []
    },
    {
      "cell_type": "code",
      "metadata": {
        "id": "DLdLpY_jSVOW",
        "colab_type": "code",
        "colab": {}
      },
      "source": [
        "# Loading the dataset\n",
        "bostonData = load_boston()\n",
        "# Load the attributes and target in X and y\n",
        "X = bostonData.data\n",
        "y = bostonData.target"
      ],
      "execution_count": 0,
      "outputs": []
    },
    {
      "cell_type": "code",
      "metadata": {
        "id": "5WJToNgBSjc8",
        "colab_type": "code",
        "colab": {}
      },
      "source": [
        "# Split the data into 80% training and 20% testing\n",
        "from sklearn.model_selection import train_test_split\n",
        "X_train, X_test, y_train, y_test = train_test_split(X, y, test_size=0.2,\n",
        "random_state=42)"
      ],
      "execution_count": 0,
      "outputs": []
    },
    {
      "cell_type": "code",
      "metadata": {
        "id": "nLEB367DTDXr",
        "colab_type": "code",
        "colab": {}
      },
      "source": [
        "# Feature scaling using Standardization\n",
        "from sklearn.preprocessing import StandardScaler\n",
        "sc = StandardScaler()"
      ],
      "execution_count": 0,
      "outputs": []
    },
    {
      "cell_type": "code",
      "metadata": {
        "id": "tKcgHfo0THht",
        "colab_type": "code",
        "outputId": "64102744-cb6f-46d3-f59a-3fe7fb9d3b7d",
        "colab": {
          "base_uri": "https://localhost:8080/",
          "height": 34
        }
      },
      "source": [
        "# Training the feature scaling parameters\n",
        "sc.fit(X_train)"
      ],
      "execution_count": 0,
      "outputs": [
        {
          "output_type": "execute_result",
          "data": {
            "text/plain": [
              "StandardScaler(copy=True, with_mean=True, with_std=True)"
            ]
          },
          "metadata": {
            "tags": []
          },
          "execution_count": 12
        }
      ]
    },
    {
      "cell_type": "code",
      "metadata": {
        "id": "_9QbFUFJTOHx",
        "colab_type": "code",
        "colab": {}
      },
      "source": [
        "#Applying transformations to both training and testing set\n",
        "x_std_train=sc.transform(X_train)\n",
        "x_std_test=sc.transform(X_test)"
      ],
      "execution_count": 0,
      "outputs": []
    },
    {
      "cell_type": "code",
      "metadata": {
        "id": "DWaT222PTzgj",
        "colab_type": "code",
        "colab": {}
      },
      "source": [
        "#Create neural network using keras API\n",
        "# Sequential() does linear stacking of layers\n",
        "model_DNN = keras.models.Sequential()"
      ],
      "execution_count": 0,
      "outputs": []
    },
    {
      "cell_type": "code",
      "metadata": {
        "id": "ghUQB_J6T9R1",
        "colab_type": "code",
        "outputId": "588ba5d2-06aa-4ff5-cd20-7f75bd1465b6",
        "colab": {
          "base_uri": "https://localhost:8080/",
          "height": 87
        }
      },
      "source": [
        "# Hidden layer definitions\n",
        "model_DNN.add(keras.layers.Dense(units=15, activation='relu', input_shape=X_train.shape[1:]))"
      ],
      "execution_count": 0,
      "outputs": [
        {
          "output_type": "stream",
          "text": [
            "WARNING:tensorflow:From /usr/local/lib/python3.6/dist-packages/tensorflow_core/python/ops/resource_variable_ops.py:1630: calling BaseResourceVariable.__init__ (from tensorflow.python.ops.resource_variable_ops) with constraint is deprecated and will be removed in a future version.\n",
            "Instructions for updating:\n",
            "If using Keras pass *_constraint arguments to layers.\n"
          ],
          "name": "stdout"
        }
      ]
    },
    {
      "cell_type": "code",
      "metadata": {
        "id": "JIylcUznUDZl",
        "colab_type": "code",
        "colab": {}
      },
      "source": [
        "# Dropout layer with 10% of nodes being discarded in each training step.\n",
        "model_DNN.add(keras.layers.Dropout(0.1))\n",
        "model_DNN.add(keras.layers.Dense(units=12, activation='relu'))\n",
        "# Dropout layer with 10% of nodes being discarded in each training step.\n",
        "model_DNN.add(keras.layers.Dropout(0.1))"
      ],
      "execution_count": 0,
      "outputs": []
    },
    {
      "cell_type": "code",
      "metadata": {
        "id": "vapWWu-gUGMI",
        "colab_type": "code",
        "colab": {}
      },
      "source": [
        "model_DNN.add(keras.layers.Dense(units=8, activation='relu'))\n",
        "model_DNN.add(keras.layers.Dense(units=4, activation='relu'))\n",
        "# Output layer definitions\n",
        "model_DNN.add(keras.layers.Dense(units=1, activation='linear'))"
      ],
      "execution_count": 0,
      "outputs": []
    },
    {
      "cell_type": "code",
      "metadata": {
        "id": "mOEYxghbUI26",
        "colab_type": "code",
        "outputId": "90630a9c-8803-4b67-a616-9a822a5ba86b",
        "colab": {
          "base_uri": "https://localhost:8080/",
          "height": 386
        }
      },
      "source": [
        "# Print the summary of network architecture\n",
        "model_DNN.summary()"
      ],
      "execution_count": 0,
      "outputs": [
        {
          "output_type": "stream",
          "text": [
            "Model: \"sequential\"\n",
            "_________________________________________________________________\n",
            "Layer (type)                 Output Shape              Param #   \n",
            "=================================================================\n",
            "dense (Dense)                (None, 15)                210       \n",
            "_________________________________________________________________\n",
            "dropout (Dropout)            (None, 15)                0         \n",
            "_________________________________________________________________\n",
            "dense_1 (Dense)              (None, 12)                192       \n",
            "_________________________________________________________________\n",
            "dropout_1 (Dropout)          (None, 12)                0         \n",
            "_________________________________________________________________\n",
            "dense_2 (Dense)              (None, 8)                 104       \n",
            "_________________________________________________________________\n",
            "dense_3 (Dense)              (None, 4)                 36        \n",
            "_________________________________________________________________\n",
            "dense_4 (Dense)              (None, 1)                 5         \n",
            "=================================================================\n",
            "Total params: 547\n",
            "Trainable params: 547\n",
            "Non-trainable params: 0\n",
            "_________________________________________________________________\n"
          ],
          "name": "stdout"
        }
      ]
    },
    {
      "cell_type": "code",
      "metadata": {
        "id": "RojNVkdCULOr",
        "colab_type": "code",
        "colab": {}
      },
      "source": [
        "# Compile the network model with relevant configurations.\n",
        "# loss, optimizer and metrics are three important configurations.\n",
        "model_DNN.compile(loss='mse', optimizer='adam', metrics=['mae'])"
      ],
      "execution_count": 0,
      "outputs": []
    },
    {
      "cell_type": "code",
      "metadata": {
        "id": "6RkLdrlfUP1w",
        "colab_type": "code",
        "outputId": "0fbea930-be7a-4bc7-95be-2a4730c3b918",
        "colab": {
          "base_uri": "https://localhost:8080/",
          "height": 1000
        }
      },
      "source": [
        "# epochs and batch_size are hyperparameters and they need to\n",
        "# be set depending on the problem.\n",
        "model_DNN.fit(x=x_std_train, y=y_train, validation_split=0.17, epochs=50,\n",
        "batch_size=16)"
      ],
      "execution_count": 0,
      "outputs": [
        {
          "output_type": "stream",
          "text": [
            "Train on 335 samples, validate on 69 samples\n",
            "Epoch 1/50\n",
            "335/335 [==============================] - 0s 151us/sample - loss: 7.2491 - mean_absolute_error: 2.0009 - val_loss: 14.9866 - val_mean_absolute_error: 2.6976\n",
            "Epoch 2/50\n",
            "335/335 [==============================] - 0s 125us/sample - loss: 8.5265 - mean_absolute_error: 2.0650 - val_loss: 15.7961 - val_mean_absolute_error: 2.8363\n",
            "Epoch 3/50\n",
            "335/335 [==============================] - 0s 122us/sample - loss: 8.7887 - mean_absolute_error: 2.1447 - val_loss: 14.3914 - val_mean_absolute_error: 2.6596\n",
            "Epoch 4/50\n",
            "335/335 [==============================] - 0s 126us/sample - loss: 7.7660 - mean_absolute_error: 2.0338 - val_loss: 15.6212 - val_mean_absolute_error: 2.8314\n",
            "Epoch 5/50\n",
            "335/335 [==============================] - 0s 130us/sample - loss: 7.7148 - mean_absolute_error: 1.9977 - val_loss: 15.3767 - val_mean_absolute_error: 2.7415\n",
            "Epoch 6/50\n",
            "335/335 [==============================] - 0s 119us/sample - loss: 7.9134 - mean_absolute_error: 2.0646 - val_loss: 16.0875 - val_mean_absolute_error: 2.8375\n",
            "Epoch 7/50\n",
            "335/335 [==============================] - 0s 118us/sample - loss: 8.3325 - mean_absolute_error: 2.0322 - val_loss: 13.9715 - val_mean_absolute_error: 2.5980\n",
            "Epoch 8/50\n",
            "335/335 [==============================] - 0s 125us/sample - loss: 7.4275 - mean_absolute_error: 1.9446 - val_loss: 14.9018 - val_mean_absolute_error: 2.7567\n",
            "Epoch 9/50\n",
            "335/335 [==============================] - 0s 120us/sample - loss: 7.2501 - mean_absolute_error: 1.9793 - val_loss: 15.2683 - val_mean_absolute_error: 2.7753\n",
            "Epoch 10/50\n",
            "335/335 [==============================] - 0s 118us/sample - loss: 6.8222 - mean_absolute_error: 1.9461 - val_loss: 13.9325 - val_mean_absolute_error: 2.5670\n",
            "Epoch 11/50\n",
            "335/335 [==============================] - 0s 122us/sample - loss: 7.4933 - mean_absolute_error: 1.9891 - val_loss: 14.5389 - val_mean_absolute_error: 2.6144\n",
            "Epoch 12/50\n",
            "335/335 [==============================] - 0s 125us/sample - loss: 7.9547 - mean_absolute_error: 2.0977 - val_loss: 17.5085 - val_mean_absolute_error: 3.0081\n",
            "Epoch 13/50\n",
            "335/335 [==============================] - 0s 128us/sample - loss: 8.6869 - mean_absolute_error: 2.0371 - val_loss: 13.8210 - val_mean_absolute_error: 2.5971\n",
            "Epoch 14/50\n",
            "335/335 [==============================] - 0s 132us/sample - loss: 7.6447 - mean_absolute_error: 2.0591 - val_loss: 14.9824 - val_mean_absolute_error: 2.7622\n",
            "Epoch 15/50\n",
            "335/335 [==============================] - 0s 126us/sample - loss: 7.4285 - mean_absolute_error: 1.9982 - val_loss: 14.0410 - val_mean_absolute_error: 2.5984\n",
            "Epoch 16/50\n",
            "335/335 [==============================] - 0s 131us/sample - loss: 8.0677 - mean_absolute_error: 2.0704 - val_loss: 14.7297 - val_mean_absolute_error: 2.6639\n",
            "Epoch 17/50\n",
            "335/335 [==============================] - 0s 118us/sample - loss: 7.5845 - mean_absolute_error: 2.0380 - val_loss: 13.7778 - val_mean_absolute_error: 2.5584\n",
            "Epoch 18/50\n",
            "335/335 [==============================] - 0s 136us/sample - loss: 7.8332 - mean_absolute_error: 2.0114 - val_loss: 14.1368 - val_mean_absolute_error: 2.6286\n",
            "Epoch 19/50\n",
            "335/335 [==============================] - 0s 132us/sample - loss: 7.9247 - mean_absolute_error: 1.9816 - val_loss: 15.6243 - val_mean_absolute_error: 2.8462\n",
            "Epoch 20/50\n",
            "335/335 [==============================] - 0s 130us/sample - loss: 8.1726 - mean_absolute_error: 2.0315 - val_loss: 14.2345 - val_mean_absolute_error: 2.6390\n",
            "Epoch 21/50\n",
            "335/335 [==============================] - 0s 127us/sample - loss: 7.8092 - mean_absolute_error: 2.0084 - val_loss: 13.3030 - val_mean_absolute_error: 2.5297\n",
            "Epoch 22/50\n",
            "335/335 [==============================] - 0s 121us/sample - loss: 6.6376 - mean_absolute_error: 1.9194 - val_loss: 16.6880 - val_mean_absolute_error: 2.9535\n",
            "Epoch 23/50\n",
            "335/335 [==============================] - 0s 131us/sample - loss: 7.7105 - mean_absolute_error: 2.0498 - val_loss: 13.1951 - val_mean_absolute_error: 2.4589\n",
            "Epoch 24/50\n",
            "335/335 [==============================] - 0s 131us/sample - loss: 7.3073 - mean_absolute_error: 1.9712 - val_loss: 14.0842 - val_mean_absolute_error: 2.5412\n",
            "Epoch 25/50\n",
            "335/335 [==============================] - 0s 131us/sample - loss: 8.9778 - mean_absolute_error: 2.1153 - val_loss: 15.6777 - val_mean_absolute_error: 2.7918\n",
            "Epoch 26/50\n",
            "335/335 [==============================] - 0s 125us/sample - loss: 9.4184 - mean_absolute_error: 2.1383 - val_loss: 13.7058 - val_mean_absolute_error: 2.5925\n",
            "Epoch 27/50\n",
            "335/335 [==============================] - 0s 139us/sample - loss: 9.0912 - mean_absolute_error: 2.0226 - val_loss: 14.0094 - val_mean_absolute_error: 2.6498\n",
            "Epoch 28/50\n",
            "335/335 [==============================] - 0s 131us/sample - loss: 8.0298 - mean_absolute_error: 2.0683 - val_loss: 16.4012 - val_mean_absolute_error: 2.8972\n",
            "Epoch 29/50\n",
            "335/335 [==============================] - 0s 130us/sample - loss: 7.5636 - mean_absolute_error: 1.9898 - val_loss: 15.9573 - val_mean_absolute_error: 2.8281\n",
            "Epoch 30/50\n",
            "335/335 [==============================] - 0s 130us/sample - loss: 7.6763 - mean_absolute_error: 2.0189 - val_loss: 13.5319 - val_mean_absolute_error: 2.5138\n",
            "Epoch 31/50\n",
            "335/335 [==============================] - 0s 144us/sample - loss: 7.9308 - mean_absolute_error: 2.0762 - val_loss: 14.6979 - val_mean_absolute_error: 2.6618\n",
            "Epoch 32/50\n",
            "335/335 [==============================] - 0s 139us/sample - loss: 7.6557 - mean_absolute_error: 2.0310 - val_loss: 14.9572 - val_mean_absolute_error: 2.7019\n",
            "Epoch 33/50\n",
            "335/335 [==============================] - 0s 135us/sample - loss: 7.9366 - mean_absolute_error: 2.0151 - val_loss: 16.4228 - val_mean_absolute_error: 2.9283\n",
            "Epoch 34/50\n",
            "335/335 [==============================] - 0s 150us/sample - loss: 8.3193 - mean_absolute_error: 2.0800 - val_loss: 14.3668 - val_mean_absolute_error: 2.6344\n",
            "Epoch 35/50\n",
            "335/335 [==============================] - 0s 145us/sample - loss: 8.2756 - mean_absolute_error: 2.0797 - val_loss: 15.2816 - val_mean_absolute_error: 2.7968\n",
            "Epoch 36/50\n",
            "335/335 [==============================] - 0s 152us/sample - loss: 7.8020 - mean_absolute_error: 2.0240 - val_loss: 13.8889 - val_mean_absolute_error: 2.6680\n",
            "Epoch 37/50\n",
            "335/335 [==============================] - 0s 149us/sample - loss: 8.2967 - mean_absolute_error: 2.1015 - val_loss: 14.0024 - val_mean_absolute_error: 2.6186\n",
            "Epoch 38/50\n",
            "335/335 [==============================] - 0s 137us/sample - loss: 8.2055 - mean_absolute_error: 2.0635 - val_loss: 13.5514 - val_mean_absolute_error: 2.5260\n",
            "Epoch 39/50\n",
            "335/335 [==============================] - 0s 145us/sample - loss: 8.0983 - mean_absolute_error: 2.0803 - val_loss: 14.2862 - val_mean_absolute_error: 2.6538\n",
            "Epoch 40/50\n",
            "335/335 [==============================] - 0s 128us/sample - loss: 6.7302 - mean_absolute_error: 1.9339 - val_loss: 15.0163 - val_mean_absolute_error: 2.7258\n",
            "Epoch 41/50\n",
            "335/335 [==============================] - 0s 135us/sample - loss: 9.1310 - mean_absolute_error: 2.0882 - val_loss: 15.2399 - val_mean_absolute_error: 2.7413\n",
            "Epoch 42/50\n",
            "335/335 [==============================] - 0s 140us/sample - loss: 8.2156 - mean_absolute_error: 2.0727 - val_loss: 13.9755 - val_mean_absolute_error: 2.6074\n",
            "Epoch 43/50\n",
            "335/335 [==============================] - 0s 133us/sample - loss: 6.5177 - mean_absolute_error: 1.9150 - val_loss: 14.4601 - val_mean_absolute_error: 2.6428\n",
            "Epoch 44/50\n",
            "335/335 [==============================] - 0s 131us/sample - loss: 8.6752 - mean_absolute_error: 2.0870 - val_loss: 13.7842 - val_mean_absolute_error: 2.5319\n",
            "Epoch 45/50\n",
            "335/335 [==============================] - 0s 127us/sample - loss: 8.2893 - mean_absolute_error: 2.0619 - val_loss: 13.5106 - val_mean_absolute_error: 2.5156\n",
            "Epoch 46/50\n",
            "335/335 [==============================] - 0s 133us/sample - loss: 7.5428 - mean_absolute_error: 2.0272 - val_loss: 14.7474 - val_mean_absolute_error: 2.7443\n",
            "Epoch 47/50\n",
            "335/335 [==============================] - 0s 130us/sample - loss: 6.9437 - mean_absolute_error: 2.0094 - val_loss: 14.8204 - val_mean_absolute_error: 2.7243\n",
            "Epoch 48/50\n",
            "335/335 [==============================] - 0s 132us/sample - loss: 8.7444 - mean_absolute_error: 2.0443 - val_loss: 14.4109 - val_mean_absolute_error: 2.6621\n",
            "Epoch 49/50\n",
            "335/335 [==============================] - 0s 147us/sample - loss: 7.4493 - mean_absolute_error: 2.0061 - val_loss: 13.8761 - val_mean_absolute_error: 2.5842\n",
            "Epoch 50/50\n",
            "335/335 [==============================] - 0s 140us/sample - loss: 7.7562 - mean_absolute_error: 2.0255 - val_loss: 14.6939 - val_mean_absolute_error: 2.7201\n"
          ],
          "name": "stdout"
        },
        {
          "output_type": "execute_result",
          "data": {
            "text/plain": [
              "<tensorflow.python.keras.callbacks.History at 0x7fecf07b2dd8>"
            ]
          },
          "metadata": {
            "tags": []
          },
          "execution_count": 56
        }
      ]
    },
    {
      "cell_type": "code",
      "metadata": {
        "id": "YIv87ArjUSgX",
        "colab_type": "code",
        "outputId": "16a3f1bc-9ebd-4271-bc40-c41d79a4290b",
        "colab": {
          "base_uri": "https://localhost:8080/",
          "height": 34
        }
      },
      "source": [
        "\n",
        "test_loss, test_accuracy = model_DNN.evaluate(x=x_std_test, y=y_test)"
      ],
      "execution_count": 0,
      "outputs": [
        {
          "output_type": "stream",
          "text": [
            "102/102 [==============================] - 0s 73us/sample - loss: 16.7746 - mean_absolute_error: 2.7746\n"
          ],
          "name": "stdout"
        }
      ]
    },
    {
      "cell_type": "code",
      "metadata": {
        "id": "mzs5-48eUUci",
        "colab_type": "code",
        "outputId": "19042e4a-3c94-461b-fc28-e085dafc44fd",
        "colab": {
          "base_uri": "https://localhost:8080/",
          "height": 34
        }
      },
      "source": [
        "\n",
        "print(test_loss,test_accuracy)"
      ],
      "execution_count": 0,
      "outputs": [
        {
          "output_type": "stream",
          "text": [
            "16.774637708476945 2.7745564\n"
          ],
          "name": "stdout"
        }
      ]
    },
    {
      "cell_type": "code",
      "metadata": {
        "id": "JMOo69s4Urk1",
        "colab_type": "code",
        "colab": {}
      },
      "source": [
        ""
      ],
      "execution_count": 0,
      "outputs": []
    }
  ]
}